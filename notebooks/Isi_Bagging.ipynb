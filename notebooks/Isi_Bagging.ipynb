{
 "cells": [
  {
   "cell_type": "code",
   "execution_count": 24,
   "id": "3d1b35f4-034f-466a-a3df-6e1680e22062",
   "metadata": {},
   "outputs": [],
   "source": [
    "import pandas as pd\n",
    "import seaborn as sns\n",
    "import matplotlib.pyplot as plt\n",
    "import numpy as np\n",
    "\n",
    "from xgboost import XGBClassifier\n",
    "from sklearn.linear_model import LinearRegression, LogisticRegression, SGDClassifier\n",
    "from sklearn.metrics import accuracy_score, classification_report, confusion_matrix\n",
    "from sklearn.ensemble import AdaBoostClassifier, BaggingClassifier, RandomForestClassifier\n",
    "from sklearn.tree import DecisionTreeClassifier\n",
    "from sklearn.model_selection import train_test_split\n",
    "from sklearn.metrics import f1_score\n",
    "\n",
    "from sklearn.preprocessing import StandardScaler\n",
    "from sklearn.decomposition import PCA\n",
    "from imblearn.under_sampling import RandomUnderSampler"
   ]
  },
  {
   "cell_type": "code",
   "execution_count": 20,
   "id": "e8797080-aeff-41a1-95f6-2775d8d87216",
   "metadata": {},
   "outputs": [],
   "source": [
    "df = pd.read_parquet('C://Users/Isi/anaconda3/envs/FireBrigade/MAY24_BDS_INT_Fire_Brigade/data/df_cleaned_for_classification_models.parquet')"
   ]
  },
  {
   "cell_type": "code",
   "execution_count": 21,
   "id": "1b2f9cfb-7579-431c-90a9-71d248ad9a1b",
   "metadata": {},
   "outputs": [],
   "source": [
    "X = df.drop(['ResponseTimeBinary'], axis = 1)\n",
    "y = df['ResponseTimeBinary']"
   ]
  },
  {
   "cell_type": "markdown",
   "id": "3c2ea9b0-c3af-43e1-9ec7-33649062ff56",
   "metadata": {},
   "source": [
    "## Preprocessing data"
   ]
  },
  {
   "cell_type": "code",
   "execution_count": 22,
   "id": "e717f7df-a0fd-4709-8fec-1f8f43b567d3",
   "metadata": {},
   "outputs": [],
   "source": [
    "X_train, X_test, y_train, y_test = train_test_split(X, y, test_size=0.2, random_state=666)\n",
    "\n",
    "# Standardize the features\n",
    "scaler = StandardScaler()\n",
    "X_train = scaler.fit_transform(X_train)\n",
    "X_test = scaler.transform(X_test)\n",
    "\n",
    "# Apply PCA to retain 85% of variance\n",
    "pca = PCA(n_components=0.85)\n",
    "X_train = pca.fit_transform(X_train)\n",
    "X_test = pca.transform(X_test)\n",
    "\n",
    "# Apply random undersampling\n",
    "rus = RandomUnderSampler(random_state=666)\n",
    "X_train, y_train = rus.fit_resample(X_train, y_train)"
   ]
  },
  {
   "cell_type": "markdown",
   "id": "ad0c9a0d-7114-4c61-bfae-5213853f7e78",
   "metadata": {},
   "source": [
    "## Random Forest Bagging"
   ]
  },
  {
   "cell_type": "code",
   "execution_count": null,
   "id": "259c742e-daab-4a98-9ae6-e11daedf068b",
   "metadata": {},
   "outputs": [],
   "source": [
    "base_classifier = RandomForestClassifier(random_state=666, criterion='gini', max_depth=10, n_estimators=200)\n",
    "bagging_classifier = BaggingClassifier(base_classifier, n_estimators=50, random_state=666)\n",
    "bagging_classifier.fit(X_train, y_train)\n",
    "\n",
    "y_pred = bagging_classifier.predict(X_test)\n",
    "\n",
    "accuracy = accuracy_score(y_test, y_pred)\n",
    "classification_rep = classification_report(y_test, y_pred)\n",
    "confusion_mat = confusion_matrix(y_test, y_pred)\n",
    "\n",
    "print(f'Accuracy: {accuracy:.4f}')\n",
    "print('\\nClassification Report:\\n', classification_rep)\n",
    "print('\\nConfusion Matrix:\\n', confusion_mat)"
   ]
  },
  {
   "cell_type": "markdown",
   "id": "68ffa531-d065-4a05-b60f-eb8d80683589",
   "metadata": {},
   "source": [
    "## XGBoost Bagging"
   ]
  },
  {
   "cell_type": "code",
   "execution_count": 13,
   "id": "8c7a354c-7bf4-4cc6-bac7-b062fce61402",
   "metadata": {},
   "outputs": [
    {
     "name": "stdout",
     "output_type": "stream",
     "text": [
      "Accuracy: 0.6974\n",
      "\n",
      "Classification Report:\n",
      "               precision    recall  f1-score   support\n",
      "\n",
      "           0       0.49      0.63      0.55     90243\n",
      "           1       0.83      0.73      0.77    217298\n",
      "\n",
      "    accuracy                           0.70    307541\n",
      "   macro avg       0.66      0.68      0.66    307541\n",
      "weighted avg       0.73      0.70      0.71    307541\n",
      "\n",
      "\n",
      "Confusion Matrix:\n",
      " [[ 56854  33389]\n",
      " [ 59674 157624]]\n"
     ]
    }
   ],
   "source": [
    "base_classifier = XGBClassifier(random_state=666, use_label_encoder=False, eval_metric='logloss', n_estimators=200, max_depth=5, subsample=0.9, learning_rate=0.1)\n",
    "\n",
    "bagging_classifier = BaggingClassifier(base_classifier, n_estimators=50, random_state=666)\n",
    "bagging_classifier.fit(X_train, y_train)\n",
    "\n",
    "y_pred = bagging_classifier.predict(X_test)\n",
    "\n",
    "accuracy = accuracy_score(y_test, y_pred)\n",
    "classification_rep = classification_report(y_test, y_pred)\n",
    "confusion_mat = confusion_matrix(y_test, y_pred)\n",
    "\n",
    "print(f'Accuracy: {accuracy:.4f}')\n",
    "print('\\nClassification Report:\\n', classification_rep)\n",
    "print('\\nConfusion Matrix:\\n', confusion_mat)"
   ]
  },
  {
   "cell_type": "markdown",
   "id": "baa8bfdc-62be-478e-babf-efe5d42b5312",
   "metadata": {},
   "source": [
    "## LogReg Bagging"
   ]
  },
  {
   "cell_type": "code",
   "execution_count": 17,
   "id": "7ffc3d83-9651-416c-891b-797ba92a91b1",
   "metadata": {},
   "outputs": [
    {
     "name": "stdout",
     "output_type": "stream",
     "text": [
      "Accuracy: 0.6797\n",
      "\n",
      "Classification Report:\n",
      "               precision    recall  f1-score   support\n",
      "\n",
      "           0       0.47      0.61      0.53     90243\n",
      "           1       0.81      0.71      0.76    217298\n",
      "\n",
      "    accuracy                           0.68    307541\n",
      "   macro avg       0.64      0.66      0.64    307541\n",
      "weighted avg       0.71      0.68      0.69    307541\n",
      "\n",
      "\n",
      "Confusion Matrix:\n",
      " [[ 55078  35165]\n",
      " [ 63337 153961]]\n"
     ]
    }
   ],
   "source": [
    "base_classifier = LogisticRegression(C=5, penalty='l2', solver='lbfgs', max_iter=10000)\n",
    "\n",
    "bagging_classifier = BaggingClassifier(base_classifier, n_estimators=50, random_state=666)\n",
    "bagging_classifier.fit(X_train, y_train)\n",
    "\n",
    "y_pred = bagging_classifier.predict(X_test)\n",
    "\n",
    "accuracy = accuracy_score(y_test, y_pred)\n",
    "classification_rep = classification_report(y_test, y_pred)\n",
    "confusion_mat = confusion_matrix(y_test, y_pred)\n",
    "\n",
    "print(f'Accuracy: {accuracy:.4f}')\n",
    "print('\\nClassification Report:\\n', classification_rep)\n",
    "print('\\nConfusion Matrix:\\n', confusion_mat)"
   ]
  },
  {
   "cell_type": "code",
   "execution_count": null,
   "id": "4b21a7d6-8a5d-4478-8306-405a52ca6eee",
   "metadata": {},
   "outputs": [],
   "source": []
  }
 ],
 "metadata": {
  "kernelspec": {
   "display_name": "Python 3 (ipykernel)",
   "language": "python",
   "name": "python3"
  },
  "language_info": {
   "codemirror_mode": {
    "name": "ipython",
    "version": 3
   },
   "file_extension": ".py",
   "mimetype": "text/x-python",
   "name": "python",
   "nbconvert_exporter": "python",
   "pygments_lexer": "ipython3",
   "version": "3.11.9"
  }
 },
 "nbformat": 4,
 "nbformat_minor": 5
}
