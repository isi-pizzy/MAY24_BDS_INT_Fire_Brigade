{
 "cells": [
  {
   "cell_type": "markdown",
   "id": "f6d45b73-32fb-480f-88e1-1cd02f29fdf6",
   "metadata": {},
   "source": [
    "# Libraries Import"
   ]
  },
  {
   "cell_type": "code",
   "execution_count": 2,
   "id": "b938a2e6-295e-4ba8-912b-4ec30d5d2e32",
   "metadata": {},
   "outputs": [],
   "source": [
    "import pandas as pd\n",
    "import numpy as np\n",
    "import matplotlib.pyplot as plt\n",
    "import seaborn as sns\n",
    "from datetime import datetime\n",
    "\n",
    "pd.set_option('display.max_columns', None)\n",
    "pd.set_option('display.float_format', '{:.3f}'.format)\n",
    "\n",
    "# Path definition\n",
    "path_mob = \"/Users/bennyschellinger/Desktop/DataScience/MLE_DataScientest/04_Projekt/Fire_Brigade/20_Data/raw_data_LFB_Mobilisation/\"\n",
    "path_inc = \"/Users/bennyschellinger/Desktop/DataScience/MLE_DataScientest/04_Projekt/Fire_Brigade/20_Data/raw_data_LFB_Incident/\"\n",
    "path_df = \"/Users/bennyschellinger/Desktop/DataScience/MLE_DataScientest/04_Projekt/Fire_Brigade/20_Data/raw_data_LFB_merged/\""
   ]
  },
  {
   "cell_type": "markdown",
   "id": "4b3592a3-ac93-4ad4-9958-78cd22e58c20",
   "metadata": {},
   "source": [
    "# 1. Data Load"
   ]
  },
  {
   "cell_type": "markdown",
   "id": "30da4e1a-c1da-4164-8960-969b699c77d1",
   "metadata": {},
   "source": [
    "### 1.1 Mobilisation"
   ]
  },
  {
   "cell_type": "code",
   "execution_count": null,
   "id": "1c20ca6d-b344-45e2-ab26-114cf3d85861",
   "metadata": {},
   "outputs": [],
   "source": [
    "lfb_mob_09_14 = pd.read_excel(path_mob+\"LFB Mobilisation data from January 2009 - 2014.xlsx\")\n",
    "lfb_mob_15_20 = pd.read_excel(path_mob+\"LFB Mobilisation data from 2015 - 2020.xlsx\")\n",
    "lfb_mob_20_24 = pd.read_excel(path_mob+\"LFB Mobilisation data 2021 - 2024.xlsx\")\n"
   ]
  },
  {
   "cell_type": "code",
   "execution_count": null,
   "id": "9f05e8a1-fadf-439b-adb1-6531492c547a",
   "metadata": {
    "scrolled": true
   },
   "outputs": [],
   "source": [
    "lfb_mob_09_14.info()"
   ]
  },
  {
   "cell_type": "code",
   "execution_count": null,
   "id": "093f1e62-226f-4993-ba31-11e41ffb5b27",
   "metadata": {},
   "outputs": [],
   "source": [
    "lfb_mob_15_20.info()"
   ]
  },
  {
   "cell_type": "code",
   "execution_count": null,
   "id": "44f8dd0d-5766-41a1-af7f-592ca9f921f7",
   "metadata": {},
   "outputs": [],
   "source": [
    "lfb_mob_20_24.info()"
   ]
  },
  {
   "cell_type": "markdown",
   "id": "06bc5e91-073f-40a3-a8c1-8e1a7a16d6e0",
   "metadata": {},
   "source": [
    "#### Check Variable Similarity"
   ]
  },
  {
   "cell_type": "code",
   "execution_count": null,
   "id": "fe7cdcff-7ace-40c3-b371-83ce8d66723a",
   "metadata": {
    "scrolled": true
   },
   "outputs": [],
   "source": [
    "((lfb_mob_20_24.columns == lfb_mob_09_14.columns) & (lfb_mob_15_20.columns == lfb_mob_09_14.columns)) # true"
   ]
  },
  {
   "cell_type": "markdown",
   "id": "35c42335-87dd-4255-924b-8929dc1458dc",
   "metadata": {},
   "source": [
    "#### Total number of variables: 22"
   ]
  },
  {
   "cell_type": "markdown",
   "id": "5050d000-52d9-460c-b416-91e2123078f9",
   "metadata": {
    "jp-MarkdownHeadingCollapsed": true
   },
   "source": [
    "#### Stack Mobilization dataframes"
   ]
  },
  {
   "cell_type": "code",
   "execution_count": null,
   "id": "19f45ae7-3efd-4146-b187-cf6d7f6fc380",
   "metadata": {},
   "outputs": [],
   "source": [
    "df_mob = pd.concat([lfb_mob_09_14, lfb_mob_15_20, lfb_mob_20_24], axis = 0)"
   ]
  },
  {
   "cell_type": "markdown",
   "id": "02f73c1c-c446-42d5-b605-24a6a20d38c6",
   "metadata": {},
   "source": [
    "#### Verify concatonated dataframe lengths"
   ]
  },
  {
   "cell_type": "code",
   "execution_count": null,
   "id": "4cc66a53-5347-4bbb-91d1-684edfd7224a",
   "metadata": {
    "scrolled": true
   },
   "outputs": [],
   "source": [
    "df_mob.shape[0] == (lfb_mob_09_14.shape[0] + lfb_mob_15_20.shape[0] + lfb_mob_20_24.shape[0]) # True"
   ]
  },
  {
   "cell_type": "code",
   "execution_count": null,
   "id": "9933cf16-ba90-4d05-a5b8-9c497b993085",
   "metadata": {},
   "outputs": [],
   "source": [
    "df_mob.to_csv(path_mob+'df_mob.csv', index=False)"
   ]
  },
  {
   "cell_type": "markdown",
   "id": "04b1f5e9-7a2c-40b6-8d53-6faed5928670",
   "metadata": {},
   "source": [
    "### 1.2 Incident"
   ]
  },
  {
   "cell_type": "code",
   "execution_count": null,
   "id": "85ca19d8-078e-4951-a534-958d343f2d12",
   "metadata": {},
   "outputs": [],
   "source": [
    "lfb_inc_09_17 = pd.read_csv(path_inc+\"LFB Incident data from 2009 - 2017.csv\")\n",
    "lfb_inc_18_24 = pd.read_excel(path_inc+\"LFB Incident data from 2018 onwards.xlsx\")\n"
   ]
  },
  {
   "cell_type": "code",
   "execution_count": null,
   "id": "7215ddbd-3969-4e1f-87d2-d5aef6199c3a",
   "metadata": {
    "scrolled": true
   },
   "outputs": [],
   "source": [
    "lfb_inc_09_17.info()"
   ]
  },
  {
   "cell_type": "code",
   "execution_count": null,
   "id": "95f169bf-8f11-48ba-91f6-1e30d6e440b4",
   "metadata": {
    "scrolled": true
   },
   "outputs": [],
   "source": [
    "lfb_inc_18_24.info()"
   ]
  },
  {
   "cell_type": "markdown",
   "id": "c19f6e1d-5aac-4ce7-b35f-d1419939fdcd",
   "metadata": {},
   "source": [
    "#### Check Variable Similarity"
   ]
  },
  {
   "cell_type": "code",
   "execution_count": null,
   "id": "97c581c5-9eda-472a-8a76-baab3367672a",
   "metadata": {},
   "outputs": [],
   "source": [
    "(lfb_inc_09_17.columns == lfb_inc_18_24.columns) #true"
   ]
  },
  {
   "cell_type": "markdown",
   "id": "7307794a-65e5-434e-ae3b-b515f45756f6",
   "metadata": {},
   "source": [
    "#### Number of variables: 39"
   ]
  },
  {
   "cell_type": "markdown",
   "id": "9b0e8344-753c-464f-aa78-3f6a61b89e4d",
   "metadata": {},
   "source": [
    "### 1.3 Stack Incident dataframes"
   ]
  },
  {
   "cell_type": "code",
   "execution_count": null,
   "id": "f08d15f0-8756-4bdd-af55-5ffadf5f06f4",
   "metadata": {
    "scrolled": true
   },
   "outputs": [],
   "source": [
    "df_inc = pd.concat([lfb_inc_09_17, lfb_inc_18_24], axis = 0)\n",
    "df_inc.isna().sum()"
   ]
  },
  {
   "cell_type": "code",
   "execution_count": null,
   "id": "12d1ab02-b0e5-4e8d-8a73-9ed05c312b46",
   "metadata": {},
   "outputs": [],
   "source": [
    "df_inc.to_csv(path_inc+'df_inc.csv', index=False)"
   ]
  },
  {
   "cell_type": "code",
   "execution_count": null,
   "id": "61980b37-af09-4aab-a15a-66153fab6590",
   "metadata": {},
   "outputs": [],
   "source": []
  },
  {
   "cell_type": "code",
   "execution_count": null,
   "id": "d796dd17-a4f6-4b52-9b14-c0537851bc70",
   "metadata": {},
   "outputs": [],
   "source": []
  },
  {
   "cell_type": "markdown",
   "id": "cf4e36de-fbbf-48d0-a680-f4134c5df3b6",
   "metadata": {
    "jp-MarkdownHeadingCollapsed": true
   },
   "source": [
    "# 2. Data Inspection"
   ]
  },
  {
   "cell_type": "code",
   "execution_count": 2,
   "id": "8ce9732a-d0c3-4b28-a318-d63d1ac6955b",
   "metadata": {},
   "outputs": [
    {
     "name": "stderr",
     "output_type": "stream",
     "text": [
      "/var/folders/mf/b1lhfbsd0_v8415y834bgj_c0000gn/T/ipykernel_39690/1345236111.py:2: DtypeWarning: Columns (0,13) have mixed types. Specify dtype option on import or set low_memory=False.\n",
      "  df_mob = pd.read_csv(path_mob+\"df_mob.csv\")\n",
      "/var/folders/mf/b1lhfbsd0_v8415y834bgj_c0000gn/T/ipykernel_39690/1345236111.py:3: DtypeWarning: Columns (0) have mixed types. Specify dtype option on import or set low_memory=False.\n",
      "  df_inc = pd.read_csv(path_inc+\"df_inc.csv\")\n"
     ]
    }
   ],
   "source": [
    "# load stored csv files\n",
    "df_mob = pd.read_csv(path_mob+\"df_mob.csv\")\n",
    "df_inc = pd.read_csv(path_inc+\"df_inc.csv\")\n"
   ]
  },
  {
   "cell_type": "markdown",
   "id": "085b0c34-f1a9-4c8b-ac24-2843d63c7661",
   "metadata": {},
   "source": [
    "### 2.1 Mobilisation (df_mob)"
   ]
  },
  {
   "cell_type": "code",
   "execution_count": null,
   "id": "d5b9a18f-cf88-4b80-81d3-6b460598ad26",
   "metadata": {},
   "outputs": [],
   "source": [
    "df_mob.head(5)"
   ]
  },
  {
   "cell_type": "code",
   "execution_count": null,
   "id": "0fd66984-3eb5-47f2-9581-1a3759fc78f7",
   "metadata": {},
   "outputs": [],
   "source": [
    "df_mob.tail(1)"
   ]
  },
  {
   "cell_type": "code",
   "execution_count": null,
   "id": "bb03d39d-439a-4106-9e0f-13fc674785d7",
   "metadata": {},
   "outputs": [],
   "source": [
    "df_mob.AttendanceTimeSeconds.describe()"
   ]
  },
  {
   "cell_type": "code",
   "execution_count": null,
   "id": "ac5fe4ec-1203-4a95-8ddc-24dbc9f578ed",
   "metadata": {
    "scrolled": true
   },
   "outputs": [],
   "source": [
    "df_mob.DelayCode_Description.unique()#value_counts()#.count()"
   ]
  },
  {
   "cell_type": "code",
   "execution_count": null,
   "id": "0bd3ad69-7c53-4446-a7a3-8e3bd5a657b8",
   "metadata": {
    "scrolled": true
   },
   "outputs": [],
   "source": [
    "missing_values_count = df_mob.isna().sum()\n",
    "\n",
    "missing_values_percentage = {}\n",
    "\n",
    "for col in df_mob.columns:\n",
    "    missing_values_percentage[col] = np.round((df_mob[col].isna().sum() / df_mob.shape[0] * 100), 2)\n",
    "\n",
    "missing_values_summary = pd.DataFrame({\n",
    "    'Missing Values Count': missing_values_count,\n",
    "    'Missing Values Percentage (%)': missing_values_percentage\n",
    "})\n",
    "\n",
    "missing_values_summary\n"
   ]
  },
  {
   "cell_type": "code",
   "execution_count": null,
   "id": "55aaa202-7a3c-4566-be45-ce96e6bdae71",
   "metadata": {},
   "outputs": [],
   "source": []
  },
  {
   "cell_type": "code",
   "execution_count": null,
   "id": "b5b806dd-b21f-4c81-b7d8-07ba66b4898e",
   "metadata": {},
   "outputs": [],
   "source": []
  },
  {
   "cell_type": "markdown",
   "id": "ff246c8c-8d67-484c-8af1-0a0c1f85046b",
   "metadata": {
    "jp-MarkdownHeadingCollapsed": true
   },
   "source": [
    "### 2.2 Incident (df_inc)"
   ]
  },
  {
   "cell_type": "code",
   "execution_count": null,
   "id": "609fd192-35f2-4d95-be6a-1dbaf032dc6f",
   "metadata": {
    "scrolled": true
   },
   "outputs": [],
   "source": [
    "df_inc.shape[0]"
   ]
  },
  {
   "cell_type": "code",
   "execution_count": null,
   "id": "d31ab282-5413-4095-a801-0247d57750d5",
   "metadata": {
    "scrolled": true
   },
   "outputs": [],
   "source": [
    "df_inc.info()"
   ]
  },
  {
   "cell_type": "code",
   "execution_count": null,
   "id": "91e79121-51f8-4226-b6bd-263f1ceab0f4",
   "metadata": {
    "scrolled": true
   },
   "outputs": [],
   "source": [
    "df_inc.columns\n"
   ]
  },
  {
   "cell_type": "code",
   "execution_count": null,
   "id": "1fcb0a4e-120e-4238-b6c0-c9713285dbd2",
   "metadata": {},
   "outputs": [],
   "source": [
    "df_inc.head(3)"
   ]
  },
  {
   "cell_type": "code",
   "execution_count": null,
   "id": "4e9451e9-ca5b-4892-8df9-ae74d5dac700",
   "metadata": {},
   "outputs": [],
   "source": [
    "df_inc.tail(1)"
   ]
  },
  {
   "cell_type": "code",
   "execution_count": null,
   "id": "921f4f16-b419-48ad-9891-4f595e12a993",
   "metadata": {},
   "outputs": [],
   "source": [
    "df_inc.NumCalls.value_counts()#.count()"
   ]
  },
  {
   "cell_type": "code",
   "execution_count": null,
   "id": "b5795dbc-5c6c-4f47-93d3-6bb48bd80880",
   "metadata": {},
   "outputs": [],
   "source": [
    "df_inc.NumCalls.describe()"
   ]
  },
  {
   "cell_type": "code",
   "execution_count": null,
   "id": "294836b6-e395-46cf-bd3e-8ea224564e2a",
   "metadata": {
    "scrolled": true
   },
   "outputs": [],
   "source": [
    "missing_values_count_inc = df_inc.isna().sum()\n",
    "\n",
    "missing_values_percentage_inc = {}\n",
    "\n",
    "for col in df_inc.columns:\n",
    "    missing_values_percentage_inc[col] = np.round((df_inc[col].isna().sum() / df_inc.shape[0] * 100), 2)\n",
    "\n",
    "missing_values_summary_inc= pd.DataFrame({\n",
    "    'Missing Values Count': missing_values_count_inc,\n",
    "    'Missing Values Percentage (%)': missing_values_percentage_inc\n",
    "})\n",
    "\n",
    "missing_values_summary_inc\n"
   ]
  },
  {
   "cell_type": "markdown",
   "id": "469b7810-f814-403f-96db-3d37d6417fe8",
   "metadata": {
    "jp-MarkdownHeadingCollapsed": true
   },
   "source": [
    "### 2.3 Check data"
   ]
  },
  {
   "cell_type": "code",
   "execution_count": null,
   "id": "0b6cb594-9c05-41d9-bd8f-ce2c6a00389b",
   "metadata": {},
   "outputs": [],
   "source": [
    "df_mob.IncidentNumber.value_counts()"
   ]
  },
  {
   "cell_type": "code",
   "execution_count": null,
   "id": "09240f0f-6640-44fb-9d84-336e77e5f158",
   "metadata": {},
   "outputs": [],
   "source": [
    "df_inc.IncidentNumber.value_counts()"
   ]
  },
  {
   "cell_type": "code",
   "execution_count": null,
   "id": "14dabe72-1152-4a44-b2a8-2c6b15515303",
   "metadata": {
    "scrolled": true
   },
   "outputs": [],
   "source": [
    "df_inc.NumCalls.value_counts()#.head(20)"
   ]
  },
  {
   "cell_type": "code",
   "execution_count": null,
   "id": "7f6dc129-3085-4119-b78b-d4db39db0f53",
   "metadata": {},
   "outputs": [],
   "source": []
  },
  {
   "cell_type": "code",
   "execution_count": null,
   "id": "e963f31c-0962-439c-ac93-26f9b6de01d7",
   "metadata": {},
   "outputs": [],
   "source": []
  },
  {
   "cell_type": "markdown",
   "id": "c2a380fc-39bd-4e51-a8c4-8c426042e68a",
   "metadata": {
    "jp-MarkdownHeadingCollapsed": true
   },
   "source": [
    "# 3. Merge Raw Mobilisation & Incident Data Set"
   ]
  },
  {
   "cell_type": "markdown",
   "id": "403c2125-a1a4-4baa-a5a9-93e3b2348032",
   "metadata": {},
   "source": [
    "### 3.1 Check for multiple Incident Numbers in df_mob"
   ]
  },
  {
   "cell_type": "code",
   "execution_count": null,
   "id": "c05920bc-f1d0-4e41-8f7d-c04c219587c5",
   "metadata": {
    "scrolled": true
   },
   "outputs": [],
   "source": [
    "df_mob.IncidentNumber.value_counts() # incident number 053666-07052021 with 13 values"
   ]
  },
  {
   "cell_type": "code",
   "execution_count": null,
   "id": "c8406b15-afb9-457c-8868-850018cabbfd",
   "metadata": {
    "scrolled": true
   },
   "outputs": [],
   "source": [
    "df_mob.loc[df_mob.IncidentNumber == '053666-07052021', [\"IncidentNumber\", \"PumpOrder\"]] \n",
    "# there are cases with mulitple pumps involved in one incident (m x 1 relation)\n",
    "# the PumpOrder variable describes the order of the pumps arrived in chronological order at the incident"
   ]
  },
  {
   "cell_type": "markdown",
   "id": "e498c405-1712-49bb-9982-4f1ea6c5e976",
   "metadata": {},
   "source": [
    "### 3.2 Merge Raw Data Sets"
   ]
  },
  {
   "cell_type": "code",
   "execution_count": 3,
   "id": "1979ab8f-1d8c-408e-acaf-6ce17ce7bea1",
   "metadata": {},
   "outputs": [],
   "source": [
    "# Drop ambiguous time colums in df_inc\n",
    "df_inc = df_inc.drop(columns = [\"DateOfCall\",\"TimeOfCall\", \"CalYear\", \"HourOfCall\"], axis = 1)"
   ]
  },
  {
   "cell_type": "code",
   "execution_count": 4,
   "id": "59307bd8-a82f-4b46-a760-36a4b94a7491",
   "metadata": {
    "scrolled": true
   },
   "outputs": [
    {
     "name": "stdout",
     "output_type": "stream",
     "text": [
      "<class 'pandas.core.frame.DataFrame'>\n",
      "RangeIndex: 2346211 entries, 0 to 2346210\n",
      "Data columns (total 56 columns):\n",
      " #   Column                                  Dtype  \n",
      "---  ------                                  -----  \n",
      " 0   IncidentNumber                          object \n",
      " 1   CalYear                                 int64  \n",
      " 2   HourOfCall                              int64  \n",
      " 3   ResourceMobilisationId                  int64  \n",
      " 4   Resource_Code                           object \n",
      " 5   PerformanceReporting                    object \n",
      " 6   DateAndTimeMobilised                    object \n",
      " 7   DateAndTimeMobile                       object \n",
      " 8   DateAndTimeArrived                      object \n",
      " 9   TurnoutTimeSeconds                      float64\n",
      " 10  TravelTimeSeconds                       float64\n",
      " 11  AttendanceTimeSeconds                   int64  \n",
      " 12  DateAndTimeLeft                         object \n",
      " 13  DateAndTimeReturned                     object \n",
      " 14  DeployedFromStation_Code                object \n",
      " 15  DeployedFromStation_Name                object \n",
      " 16  DeployedFromLocation                    object \n",
      " 17  PumpOrder                               int64  \n",
      " 18  PlusCode_Code                           object \n",
      " 19  PlusCode_Description                    object \n",
      " 20  DelayCodeId                             float64\n",
      " 21  DelayCode_Description                   object \n",
      " 22  IncidentGroup                           object \n",
      " 23  StopCodeDescription                     object \n",
      " 24  SpecialServiceType                      object \n",
      " 25  PropertyCategory                        object \n",
      " 26  PropertyType                            object \n",
      " 27  AddressQualifier                        object \n",
      " 28  Postcode_full                           object \n",
      " 29  Postcode_district                       object \n",
      " 30  UPRN                                    float64\n",
      " 31  USRN                                    float64\n",
      " 32  IncGeo_BoroughCode                      object \n",
      " 33  IncGeo_BoroughName                      object \n",
      " 34  ProperCase                              object \n",
      " 35  IncGeo_WardCode                         object \n",
      " 36  IncGeo_WardName                         object \n",
      " 37  IncGeo_WardNameNew                      object \n",
      " 38  Easting_m                               float64\n",
      " 39  Northing_m                              float64\n",
      " 40  Easting_rounded                         int64  \n",
      " 41  Northing_rounded                        int64  \n",
      " 42  Latitude                                float64\n",
      " 43  Longitude                               float64\n",
      " 44  FRS                                     object \n",
      " 45  IncidentStationGround                   object \n",
      " 46  FirstPumpArriving_AttendanceTime        float64\n",
      " 47  FirstPumpArriving_DeployedFromStation   object \n",
      " 48  SecondPumpArriving_AttendanceTime       float64\n",
      " 49  SecondPumpArriving_DeployedFromStation  object \n",
      " 50  NumStationsWithPumpsAttending           float64\n",
      " 51  NumPumpsAttending                       float64\n",
      " 52  PumpCount                               int64  \n",
      " 53  PumpMinutesRounded                      int64  \n",
      " 54  Notional Cost (£)                       int64  \n",
      " 55  NumCalls                                float64\n",
      "dtypes: float64(14), int64(10), object(32)\n",
      "memory usage: 1002.4+ MB\n"
     ]
    }
   ],
   "source": [
    "df_raw = pd.merge(df_mob, df_inc, on = \"IncidentNumber\", how = \"inner\") # merge both data sets\n",
    "df_raw.info()\n",
    "\n",
    "df_raw.to_csv(path_df+'df_raw.csv', index=False)"
   ]
  },
  {
   "cell_type": "markdown",
   "id": "9f07efad-3ad1-4c58-9eaa-ab0c29b800ce",
   "metadata": {},
   "source": [
    "# --------------------------"
   ]
  },
  {
   "cell_type": "markdown",
   "id": "00ad9727-51ee-435d-bda0-6c7be97eeeb4",
   "metadata": {},
   "source": [
    "# 4. Load Merged df"
   ]
  },
  {
   "cell_type": "code",
   "execution_count": 3,
   "id": "a599712a-8523-49e6-a4c2-a387ded19b87",
   "metadata": {},
   "outputs": [
    {
     "name": "stderr",
     "output_type": "stream",
     "text": [
      "/var/folders/mf/b1lhfbsd0_v8415y834bgj_c0000gn/T/ipykernel_64248/3272938559.py:1: DtypeWarning: Columns (0,13) have mixed types. Specify dtype option on import or set low_memory=False.\n",
      "  df_raw = pd.read_csv(path_df+\"df_raw.csv\")\n"
     ]
    }
   ],
   "source": [
    "df_raw = pd.read_csv(path_df+\"df_raw.csv\")"
   ]
  },
  {
   "cell_type": "markdown",
   "id": "1ca94b16-a46c-4b0c-b857-b1a5ba96d109",
   "metadata": {
    "jp-MarkdownHeadingCollapsed": true
   },
   "source": [
    "# --------------------------"
   ]
  },
  {
   "cell_type": "markdown",
   "id": "e16b98b7-21c6-4153-8a86-48102d5bf408",
   "metadata": {},
   "source": [
    "# 5. Data Cleaning"
   ]
  },
  {
   "cell_type": "markdown",
   "id": "e2470247-6719-49ad-8e6e-e1247411b865",
   "metadata": {},
   "source": [
    "**Total response time** is the minutes and seconds elapsed from the **time of call** to the **arrival** of the **first vehicle** to the incident. Time of call is based on the time that the call is received by Command and Control, that is, when it is received by the Fire Control room.\n",
    "\n",
    "The following incidents are not included in response time totals:\n",
    "- Road vehicle fires, where the road vehicle was abandoned.\n",
    "- Where the location of the fire was a derelict property.\n",
    "- Where an FRS learned of the fire when it was known to have already been extinguished (known as “late calls”).\n",
    "- Where the total response time for an incident was over an hour or less than one minute (to avoid erroneous data or exceptional incidents from skewing the averages).\n",
    "- Where the sequence of events (time of call - mobilisation - vehicle mobile - arrival at scene) in an incident is not recorded in a logical sequence, either through recording error (for example, a vehicle appears to have arrived before it left) or absence of data (null values).\n",
    "\n",
    "__[Link: Definition total response time by UK Government](https://www.gov.uk/government/statistics/detailed-analysis-of-response-times-to-fires-year-to-march-2023/detailed-analysis-of-response-times-to-fires-attended-by-fire-and-rescue-services-england-april-2022-to-march-2023#:~:text=The%20average%20response%20time%20to%20primary%20fires%20was%209%20minutes,8%20minutes%20and%2038%20seconds)__\n"
   ]
  },
  {
   "cell_type": "markdown",
   "id": "aa8140c3-85dd-4593-83ac-34ebf2b9e1c8",
   "metadata": {},
   "source": [
    "### 5.1 Filter for first arriving Pump (PumpOrder == 1)"
   ]
  },
  {
   "cell_type": "code",
   "execution_count": 4,
   "id": "c7380ef6-962c-4a2f-bb38-b76b2865907f",
   "metadata": {
    "scrolled": true
   },
   "outputs": [
    {
     "name": "stdout",
     "output_type": "stream",
     "text": [
      "<class 'pandas.core.frame.DataFrame'>\n",
      "Index: 1555790 entries, 0 to 2346210\n",
      "Data columns (total 56 columns):\n",
      " #   Column                                  Non-Null Count    Dtype  \n",
      "---  ------                                  --------------    -----  \n",
      " 0   IncidentNumber                          1555790 non-null  object \n",
      " 1   CalYear                                 1555790 non-null  int64  \n",
      " 2   HourOfCall                              1555790 non-null  int64  \n",
      " 3   ResourceMobilisationId                  1555790 non-null  int64  \n",
      " 4   Resource_Code                           1555790 non-null  object \n",
      " 5   PerformanceReporting                    1555790 non-null  object \n",
      " 6   DateAndTimeMobilised                    1555790 non-null  object \n",
      " 7   DateAndTimeMobile                       1534524 non-null  object \n",
      " 8   DateAndTimeArrived                      1555790 non-null  object \n",
      " 9   TurnoutTimeSeconds                      1534413 non-null  float64\n",
      " 10  TravelTimeSeconds                       1534332 non-null  float64\n",
      " 11  AttendanceTimeSeconds                   1555790 non-null  int64  \n",
      " 12  DateAndTimeLeft                         1518986 non-null  object \n",
      " 13  DateAndTimeReturned                     649309 non-null   object \n",
      " 14  DeployedFromStation_Code                1555779 non-null  object \n",
      " 15  DeployedFromStation_Name                1555779 non-null  object \n",
      " 16  DeployedFromLocation                    1555167 non-null  object \n",
      " 17  PumpOrder                               1555790 non-null  int64  \n",
      " 18  PlusCode_Code                           1555790 non-null  object \n",
      " 19  PlusCode_Description                    1555790 non-null  object \n",
      " 20  DelayCodeId                             447660 non-null   float64\n",
      " 21  DelayCode_Description                   447660 non-null   object \n",
      " 22  IncidentGroup                           1555790 non-null  object \n",
      " 23  StopCodeDescription                     1555790 non-null  object \n",
      " 24  SpecialServiceType                      443440 non-null   object \n",
      " 25  PropertyCategory                        1555790 non-null  object \n",
      " 26  PropertyType                            1555790 non-null  object \n",
      " 27  AddressQualifier                        1555790 non-null  object \n",
      " 28  Postcode_full                           804977 non-null   object \n",
      " 29  Postcode_district                       1555790 non-null  object \n",
      " 30  UPRN                                    1426977 non-null  float64\n",
      " 31  USRN                                    1408908 non-null  float64\n",
      " 32  IncGeo_BoroughCode                      1555790 non-null  object \n",
      " 33  IncGeo_BoroughName                      1555790 non-null  object \n",
      " 34  ProperCase                              1555790 non-null  object \n",
      " 35  IncGeo_WardCode                         1555474 non-null  object \n",
      " 36  IncGeo_WardName                         1555474 non-null  object \n",
      " 37  IncGeo_WardNameNew                      1555474 non-null  object \n",
      " 38  Easting_m                               804977 non-null   float64\n",
      " 39  Northing_m                              804977 non-null   float64\n",
      " 40  Easting_rounded                         1555790 non-null  int64  \n",
      " 41  Northing_rounded                        1555790 non-null  int64  \n",
      " 42  Latitude                                804977 non-null   float64\n",
      " 43  Longitude                               804977 non-null   float64\n",
      " 44  FRS                                     1555790 non-null  object \n",
      " 45  IncidentStationGround                   1555789 non-null  object \n",
      " 46  FirstPumpArriving_AttendanceTime        1555784 non-null  float64\n",
      " 47  FirstPumpArriving_DeployedFromStation   1555773 non-null  object \n",
      " 48  SecondPumpArriving_AttendanceTime       603269 non-null   float64\n",
      " 49  SecondPumpArriving_DeployedFromStation  603262 non-null   object \n",
      " 50  NumStationsWithPumpsAttending           1555790 non-null  float64\n",
      " 51  NumPumpsAttending                       1555790 non-null  float64\n",
      " 52  PumpCount                               1555790 non-null  int64  \n",
      " 53  PumpMinutesRounded                      1555790 non-null  int64  \n",
      " 54  Notional Cost (£)                       1555790 non-null  int64  \n",
      " 55  NumCalls                                1554835 non-null  float64\n",
      "dtypes: float64(14), int64(10), object(32)\n",
      "memory usage: 676.6+ MB\n"
     ]
    }
   ],
   "source": [
    "df = df_raw.loc[df_raw.PumpOrder == 1].copy() # selecting only the first pump arriving at the incident\n",
    "df.info()"
   ]
  },
  {
   "cell_type": "markdown",
   "id": "7c8a7dc2-ec92-4242-ac26-37e55319f193",
   "metadata": {},
   "source": [
    "### 5.2 Convert to Datetime Format"
   ]
  },
  {
   "cell_type": "code",
   "execution_count": 5,
   "id": "9c167b5e-3973-4dc5-bc1a-1f80328f97d1",
   "metadata": {
    "scrolled": true
   },
   "outputs": [
    {
     "data": {
      "text/plain": [
       "0"
      ]
     },
     "execution_count": 5,
     "metadata": {},
     "output_type": "execute_result"
    }
   ],
   "source": [
    "df = df.rename(columns={\"DateAndTimeMobilised\": \"DateTimeCall\"})\n",
    "df.DateTimeCall.isna().sum() # 0 NaNs for DateTimeCall"
   ]
  },
  {
   "cell_type": "code",
   "execution_count": 6,
   "id": "efc48c0b-84e9-452b-b51a-46cc43533b7c",
   "metadata": {},
   "outputs": [
    {
     "name": "stdout",
     "output_type": "stream",
     "text": [
      "<class 'pandas.core.frame.DataFrame'>\n",
      "Index: 1555790 entries, 0 to 2346210\n",
      "Data columns (total 2 columns):\n",
      " #   Column              Non-Null Count    Dtype         \n",
      "---  ------              --------------    -----         \n",
      " 0   DateTimeCall        1555790 non-null  datetime64[ns]\n",
      " 1   DateAndTimeArrived  1555790 non-null  datetime64[ns]\n",
      "dtypes: datetime64[ns](2)\n",
      "memory usage: 35.6 MB\n"
     ]
    }
   ],
   "source": [
    "# Convert DateTimeCall & DateAndTimeArrived to datetime format\n",
    "\n",
    "date_format = '%Y-%m-%d %H:%M:%S'\n",
    "df[[\"DateTimeCall\", \"DateAndTimeArrived\"]] = df[[\"DateTimeCall\", \"DateAndTimeArrived\"]].astype(str)\n",
    "\n",
    "for col in df[[\"DateTimeCall\", \"DateAndTimeArrived\"]]:\n",
    "    df[col] = df[col].apply(lambda x: datetime.strptime(x, date_format))\n",
    "\n",
    "df[[\"DateTimeCall\", \"DateAndTimeArrived\"]].info()"
   ]
  },
  {
   "cell_type": "markdown",
   "id": "45f9a185-084a-49c0-b6c8-49e0b0a60b7e",
   "metadata": {},
   "source": [
    "### 5.3 Calculate Total Response Time"
   ]
  },
  {
   "cell_type": "code",
   "execution_count": 7,
   "id": "0fff6303-31da-4628-8ef5-3afc49fb67f5",
   "metadata": {
    "scrolled": true
   },
   "outputs": [
    {
     "data": {
      "text/html": [
       "<div>\n",
       "<style scoped>\n",
       "    .dataframe tbody tr th:only-of-type {\n",
       "        vertical-align: middle;\n",
       "    }\n",
       "\n",
       "    .dataframe tbody tr th {\n",
       "        vertical-align: top;\n",
       "    }\n",
       "\n",
       "    .dataframe thead th {\n",
       "        text-align: right;\n",
       "    }\n",
       "</style>\n",
       "<table border=\"1\" class=\"dataframe\">\n",
       "  <thead>\n",
       "    <tr style=\"text-align: right;\">\n",
       "      <th></th>\n",
       "      <th>IncidentNumber</th>\n",
       "      <th>CalYear</th>\n",
       "      <th>HourOfCall</th>\n",
       "      <th>ResourceMobilisationId</th>\n",
       "      <th>Resource_Code</th>\n",
       "      <th>PerformanceReporting</th>\n",
       "      <th>DateTimeCall</th>\n",
       "      <th>DateAndTimeMobile</th>\n",
       "      <th>DateAndTimeArrived</th>\n",
       "      <th>TurnoutTimeSeconds</th>\n",
       "      <th>TravelTimeSeconds</th>\n",
       "      <th>AttendanceTimeSeconds</th>\n",
       "      <th>DateAndTimeLeft</th>\n",
       "      <th>DateAndTimeReturned</th>\n",
       "      <th>DeployedFromStation_Code</th>\n",
       "      <th>DeployedFromStation_Name</th>\n",
       "      <th>DeployedFromLocation</th>\n",
       "      <th>PumpOrder</th>\n",
       "      <th>PlusCode_Code</th>\n",
       "      <th>PlusCode_Description</th>\n",
       "      <th>DelayCodeId</th>\n",
       "      <th>DelayCode_Description</th>\n",
       "      <th>IncidentGroup</th>\n",
       "      <th>StopCodeDescription</th>\n",
       "      <th>SpecialServiceType</th>\n",
       "      <th>PropertyCategory</th>\n",
       "      <th>PropertyType</th>\n",
       "      <th>AddressQualifier</th>\n",
       "      <th>Postcode_full</th>\n",
       "      <th>Postcode_district</th>\n",
       "      <th>UPRN</th>\n",
       "      <th>USRN</th>\n",
       "      <th>IncGeo_BoroughCode</th>\n",
       "      <th>IncGeo_BoroughName</th>\n",
       "      <th>ProperCase</th>\n",
       "      <th>IncGeo_WardCode</th>\n",
       "      <th>IncGeo_WardName</th>\n",
       "      <th>IncGeo_WardNameNew</th>\n",
       "      <th>Easting_m</th>\n",
       "      <th>Northing_m</th>\n",
       "      <th>Easting_rounded</th>\n",
       "      <th>Northing_rounded</th>\n",
       "      <th>Latitude</th>\n",
       "      <th>Longitude</th>\n",
       "      <th>FRS</th>\n",
       "      <th>IncidentStationGround</th>\n",
       "      <th>FirstPumpArriving_AttendanceTime</th>\n",
       "      <th>FirstPumpArriving_DeployedFromStation</th>\n",
       "      <th>SecondPumpArriving_AttendanceTime</th>\n",
       "      <th>SecondPumpArriving_DeployedFromStation</th>\n",
       "      <th>NumStationsWithPumpsAttending</th>\n",
       "      <th>NumPumpsAttending</th>\n",
       "      <th>PumpCount</th>\n",
       "      <th>PumpMinutesRounded</th>\n",
       "      <th>Notional Cost (£)</th>\n",
       "      <th>NumCalls</th>\n",
       "      <th>TotalResponseTime</th>\n",
       "    </tr>\n",
       "  </thead>\n",
       "  <tbody>\n",
       "    <tr>\n",
       "      <th>0</th>\n",
       "      <td>235138081</td>\n",
       "      <td>2009</td>\n",
       "      <td>0</td>\n",
       "      <td>38426</td>\n",
       "      <td>H271</td>\n",
       "      <td>1</td>\n",
       "      <td>2009-01-01 00:02:27</td>\n",
       "      <td>NaN</td>\n",
       "      <td>2009-01-01 00:07:46</td>\n",
       "      <td>NaN</td>\n",
       "      <td>NaN</td>\n",
       "      <td>319</td>\n",
       "      <td>2009-01-01 00:16:46</td>\n",
       "      <td>2009-01-01 00:23:55</td>\n",
       "      <td>H27</td>\n",
       "      <td>Battersea</td>\n",
       "      <td>Home Station</td>\n",
       "      <td>1</td>\n",
       "      <td>Initial</td>\n",
       "      <td>Initial Mobilisation</td>\n",
       "      <td>NaN</td>\n",
       "      <td>NaN</td>\n",
       "      <td>Special Service</td>\n",
       "      <td>Special Service</td>\n",
       "      <td>RTC</td>\n",
       "      <td>Road Vehicle</td>\n",
       "      <td>Car</td>\n",
       "      <td>In street close to gazetteer location</td>\n",
       "      <td>SW11 4LB</td>\n",
       "      <td>SW11</td>\n",
       "      <td>NaN</td>\n",
       "      <td>NaN</td>\n",
       "      <td>E09000032</td>\n",
       "      <td>WANDSWORTH</td>\n",
       "      <td>Wandsworth</td>\n",
       "      <td>E05014010</td>\n",
       "      <td>Battersea Park</td>\n",
       "      <td>Battersea Park</td>\n",
       "      <td>528652.000</td>\n",
       "      <td>176830.000</td>\n",
       "      <td>528650</td>\n",
       "      <td>176850</td>\n",
       "      <td>51.476</td>\n",
       "      <td>-0.149</td>\n",
       "      <td>London</td>\n",
       "      <td>Battersea</td>\n",
       "      <td>319.000</td>\n",
       "      <td>Battersea</td>\n",
       "      <td>342.000</td>\n",
       "      <td>Clapham</td>\n",
       "      <td>2.000</td>\n",
       "      <td>2.000</td>\n",
       "      <td>2</td>\n",
       "      <td>60</td>\n",
       "      <td>255</td>\n",
       "      <td>1.000</td>\n",
       "      <td>319.000</td>\n",
       "    </tr>\n",
       "    <tr>\n",
       "      <th>2</th>\n",
       "      <td>2091</td>\n",
       "      <td>2009</td>\n",
       "      <td>0</td>\n",
       "      <td>38429</td>\n",
       "      <td>A341</td>\n",
       "      <td>1</td>\n",
       "      <td>2009-01-01 00:04:09</td>\n",
       "      <td>2009-01-01 00:06:40</td>\n",
       "      <td>2009-01-01 00:09:17</td>\n",
       "      <td>151.000</td>\n",
       "      <td>157.000</td>\n",
       "      <td>308</td>\n",
       "      <td>2009-01-01 00:16:33</td>\n",
       "      <td>2009-01-01 00:17:48</td>\n",
       "      <td>A34</td>\n",
       "      <td>Edmonton</td>\n",
       "      <td>Home Station</td>\n",
       "      <td>1</td>\n",
       "      <td>Initial</td>\n",
       "      <td>Initial Mobilisation</td>\n",
       "      <td>NaN</td>\n",
       "      <td>NaN</td>\n",
       "      <td>Fire</td>\n",
       "      <td>Secondary Fire</td>\n",
       "      <td>NaN</td>\n",
       "      <td>Outdoor</td>\n",
       "      <td>Road surface/pavement</td>\n",
       "      <td>In street outside gazetteer location</td>\n",
       "      <td>N9 9EL</td>\n",
       "      <td>N9</td>\n",
       "      <td>NaN</td>\n",
       "      <td>NaN</td>\n",
       "      <td>E09000010</td>\n",
       "      <td>ENFIELD</td>\n",
       "      <td>Enfield</td>\n",
       "      <td>E05013682</td>\n",
       "      <td>Haselbury</td>\n",
       "      <td>Haselbury</td>\n",
       "      <td>533773.000</td>\n",
       "      <td>194492.000</td>\n",
       "      <td>533750</td>\n",
       "      <td>194450</td>\n",
       "      <td>51.633</td>\n",
       "      <td>-0.068</td>\n",
       "      <td>London</td>\n",
       "      <td>Edmonton</td>\n",
       "      <td>308.000</td>\n",
       "      <td>Edmonton</td>\n",
       "      <td>NaN</td>\n",
       "      <td>NaN</td>\n",
       "      <td>1.000</td>\n",
       "      <td>1.000</td>\n",
       "      <td>1</td>\n",
       "      <td>60</td>\n",
       "      <td>255</td>\n",
       "      <td>2.000</td>\n",
       "      <td>308.000</td>\n",
       "    </tr>\n",
       "    <tr>\n",
       "      <th>3</th>\n",
       "      <td>3091</td>\n",
       "      <td>2009</td>\n",
       "      <td>0</td>\n",
       "      <td>38430</td>\n",
       "      <td>G232</td>\n",
       "      <td>1</td>\n",
       "      <td>2009-01-01 00:04:57</td>\n",
       "      <td>2009-01-01 00:06:45</td>\n",
       "      <td>2009-01-01 00:08:27</td>\n",
       "      <td>108.000</td>\n",
       "      <td>102.000</td>\n",
       "      <td>210</td>\n",
       "      <td>2009-01-01 00:20:38</td>\n",
       "      <td>2009-01-01 00:20:38</td>\n",
       "      <td>G23</td>\n",
       "      <td>Hillingdon</td>\n",
       "      <td>Home Station</td>\n",
       "      <td>1</td>\n",
       "      <td>Initial</td>\n",
       "      <td>Initial Mobilisation</td>\n",
       "      <td>NaN</td>\n",
       "      <td>NaN</td>\n",
       "      <td>Fire</td>\n",
       "      <td>Secondary Fire</td>\n",
       "      <td>NaN</td>\n",
       "      <td>Outdoor</td>\n",
       "      <td>Domestic garden (vegetation not equipment)</td>\n",
       "      <td>On land associated with building</td>\n",
       "      <td>UB10 0DG</td>\n",
       "      <td>UB10</td>\n",
       "      <td>100021491527.000</td>\n",
       "      <td>21401491.000</td>\n",
       "      <td>E09000017</td>\n",
       "      <td>HILLINGDON</td>\n",
       "      <td>Hillingdon</td>\n",
       "      <td>E05013571</td>\n",
       "      <td>Hillingdon East</td>\n",
       "      <td>Hillingdon East</td>\n",
       "      <td>507738.000</td>\n",
       "      <td>182805.000</td>\n",
       "      <td>507750</td>\n",
       "      <td>182850</td>\n",
       "      <td>51.534</td>\n",
       "      <td>-0.448</td>\n",
       "      <td>London</td>\n",
       "      <td>Hillingdon</td>\n",
       "      <td>210.000</td>\n",
       "      <td>Hillingdon</td>\n",
       "      <td>NaN</td>\n",
       "      <td>NaN</td>\n",
       "      <td>1.000</td>\n",
       "      <td>1.000</td>\n",
       "      <td>1</td>\n",
       "      <td>60</td>\n",
       "      <td>255</td>\n",
       "      <td>2.000</td>\n",
       "      <td>210.000</td>\n",
       "    </tr>\n",
       "    <tr>\n",
       "      <th>4</th>\n",
       "      <td>5091</td>\n",
       "      <td>2009</td>\n",
       "      <td>0</td>\n",
       "      <td>38432</td>\n",
       "      <td>A311</td>\n",
       "      <td>1</td>\n",
       "      <td>2009-01-01 00:06:04</td>\n",
       "      <td>2009-01-01 00:07:58</td>\n",
       "      <td>2009-01-01 00:09:57</td>\n",
       "      <td>114.000</td>\n",
       "      <td>119.000</td>\n",
       "      <td>233</td>\n",
       "      <td>2009-01-01 00:11:58</td>\n",
       "      <td>2009-01-01 00:22:29</td>\n",
       "      <td>A31</td>\n",
       "      <td>Holloway</td>\n",
       "      <td>Home Station</td>\n",
       "      <td>1</td>\n",
       "      <td>Initial</td>\n",
       "      <td>Initial Mobilisation</td>\n",
       "      <td>NaN</td>\n",
       "      <td>NaN</td>\n",
       "      <td>Fire</td>\n",
       "      <td>Secondary Fire</td>\n",
       "      <td>NaN</td>\n",
       "      <td>Outdoor</td>\n",
       "      <td>Cycle path/public footpath/bridleway</td>\n",
       "      <td>In street outside gazetteer location</td>\n",
       "      <td>N7 8HG</td>\n",
       "      <td>N7</td>\n",
       "      <td>NaN</td>\n",
       "      <td>NaN</td>\n",
       "      <td>E09000019</td>\n",
       "      <td>ISLINGTON</td>\n",
       "      <td>Islington</td>\n",
       "      <td>E05013708</td>\n",
       "      <td>Laycock</td>\n",
       "      <td>Laycock</td>\n",
       "      <td>531058.000</td>\n",
       "      <td>185307.000</td>\n",
       "      <td>531050</td>\n",
       "      <td>185350</td>\n",
       "      <td>51.551</td>\n",
       "      <td>-0.111</td>\n",
       "      <td>London</td>\n",
       "      <td>Holloway</td>\n",
       "      <td>233.000</td>\n",
       "      <td>Holloway</td>\n",
       "      <td>250.000</td>\n",
       "      <td>Holloway</td>\n",
       "      <td>1.000</td>\n",
       "      <td>2.000</td>\n",
       "      <td>2</td>\n",
       "      <td>60</td>\n",
       "      <td>255</td>\n",
       "      <td>1.000</td>\n",
       "      <td>233.000</td>\n",
       "    </tr>\n",
       "    <tr>\n",
       "      <th>6</th>\n",
       "      <td>6091</td>\n",
       "      <td>2009</td>\n",
       "      <td>0</td>\n",
       "      <td>38434</td>\n",
       "      <td>A432</td>\n",
       "      <td>1</td>\n",
       "      <td>2009-01-01 00:06:30</td>\n",
       "      <td>2009-01-01 00:07:53</td>\n",
       "      <td>2009-01-01 00:09:22</td>\n",
       "      <td>83.000</td>\n",
       "      <td>89.000</td>\n",
       "      <td>172</td>\n",
       "      <td>2009-01-01 00:15:57</td>\n",
       "      <td>2009-01-01 00:23:10</td>\n",
       "      <td>A43</td>\n",
       "      <td>Kentish Town</td>\n",
       "      <td>Home Station</td>\n",
       "      <td>1</td>\n",
       "      <td>Initial</td>\n",
       "      <td>Initial Mobilisation</td>\n",
       "      <td>NaN</td>\n",
       "      <td>NaN</td>\n",
       "      <td>False Alarm</td>\n",
       "      <td>AFA</td>\n",
       "      <td>NaN</td>\n",
       "      <td>Dwelling</td>\n",
       "      <td>Purpose Built Flats/Maisonettes - Up to 3 stor...</td>\n",
       "      <td>Correct incident location</td>\n",
       "      <td>NaN</td>\n",
       "      <td>NW5</td>\n",
       "      <td>0.000</td>\n",
       "      <td>20499122.000</td>\n",
       "      <td>E09000007</td>\n",
       "      <td>CAMDEN</td>\n",
       "      <td>Camden</td>\n",
       "      <td>E05013663</td>\n",
       "      <td>Kentish Town North</td>\n",
       "      <td>Kentish Town North</td>\n",
       "      <td>NaN</td>\n",
       "      <td>NaN</td>\n",
       "      <td>529450</td>\n",
       "      <td>185250</td>\n",
       "      <td>NaN</td>\n",
       "      <td>NaN</td>\n",
       "      <td>London</td>\n",
       "      <td>Kentish Town</td>\n",
       "      <td>172.000</td>\n",
       "      <td>Kentish Town</td>\n",
       "      <td>222.000</td>\n",
       "      <td>Kentish Town</td>\n",
       "      <td>1.000</td>\n",
       "      <td>2.000</td>\n",
       "      <td>2</td>\n",
       "      <td>60</td>\n",
       "      <td>255</td>\n",
       "      <td>1.000</td>\n",
       "      <td>172.000</td>\n",
       "    </tr>\n",
       "  </tbody>\n",
       "</table>\n",
       "</div>"
      ],
      "text/plain": [
       "  IncidentNumber  CalYear  HourOfCall  ResourceMobilisationId Resource_Code  \\\n",
       "0      235138081     2009           0                   38426          H271   \n",
       "2           2091     2009           0                   38429          A341   \n",
       "3           3091     2009           0                   38430          G232   \n",
       "4           5091     2009           0                   38432          A311   \n",
       "6           6091     2009           0                   38434          A432   \n",
       "\n",
       "  PerformanceReporting        DateTimeCall    DateAndTimeMobile  \\\n",
       "0                    1 2009-01-01 00:02:27                  NaN   \n",
       "2                    1 2009-01-01 00:04:09  2009-01-01 00:06:40   \n",
       "3                    1 2009-01-01 00:04:57  2009-01-01 00:06:45   \n",
       "4                    1 2009-01-01 00:06:04  2009-01-01 00:07:58   \n",
       "6                    1 2009-01-01 00:06:30  2009-01-01 00:07:53   \n",
       "\n",
       "   DateAndTimeArrived  TurnoutTimeSeconds  TravelTimeSeconds  \\\n",
       "0 2009-01-01 00:07:46                 NaN                NaN   \n",
       "2 2009-01-01 00:09:17             151.000            157.000   \n",
       "3 2009-01-01 00:08:27             108.000            102.000   \n",
       "4 2009-01-01 00:09:57             114.000            119.000   \n",
       "6 2009-01-01 00:09:22              83.000             89.000   \n",
       "\n",
       "   AttendanceTimeSeconds      DateAndTimeLeft  DateAndTimeReturned  \\\n",
       "0                    319  2009-01-01 00:16:46  2009-01-01 00:23:55   \n",
       "2                    308  2009-01-01 00:16:33  2009-01-01 00:17:48   \n",
       "3                    210  2009-01-01 00:20:38  2009-01-01 00:20:38   \n",
       "4                    233  2009-01-01 00:11:58  2009-01-01 00:22:29   \n",
       "6                    172  2009-01-01 00:15:57  2009-01-01 00:23:10   \n",
       "\n",
       "  DeployedFromStation_Code DeployedFromStation_Name DeployedFromLocation  \\\n",
       "0                      H27                Battersea         Home Station   \n",
       "2                      A34                 Edmonton         Home Station   \n",
       "3                      G23               Hillingdon         Home Station   \n",
       "4                      A31                 Holloway         Home Station   \n",
       "6                      A43             Kentish Town         Home Station   \n",
       "\n",
       "   PumpOrder PlusCode_Code  PlusCode_Description  DelayCodeId  \\\n",
       "0          1       Initial  Initial Mobilisation          NaN   \n",
       "2          1       Initial  Initial Mobilisation          NaN   \n",
       "3          1       Initial  Initial Mobilisation          NaN   \n",
       "4          1       Initial  Initial Mobilisation          NaN   \n",
       "6          1       Initial  Initial Mobilisation          NaN   \n",
       "\n",
       "  DelayCode_Description    IncidentGroup StopCodeDescription  \\\n",
       "0                   NaN  Special Service     Special Service   \n",
       "2                   NaN             Fire      Secondary Fire   \n",
       "3                   NaN             Fire      Secondary Fire   \n",
       "4                   NaN             Fire      Secondary Fire   \n",
       "6                   NaN      False Alarm                 AFA   \n",
       "\n",
       "  SpecialServiceType PropertyCategory  \\\n",
       "0                RTC     Road Vehicle   \n",
       "2                NaN          Outdoor   \n",
       "3                NaN          Outdoor   \n",
       "4                NaN          Outdoor   \n",
       "6                NaN         Dwelling   \n",
       "\n",
       "                                        PropertyType  \\\n",
       "0                                               Car    \n",
       "2                             Road surface/pavement    \n",
       "3        Domestic garden (vegetation not equipment)    \n",
       "4              Cycle path/public footpath/bridleway    \n",
       "6  Purpose Built Flats/Maisonettes - Up to 3 stor...   \n",
       "\n",
       "                        AddressQualifier Postcode_full Postcode_district  \\\n",
       "0  In street close to gazetteer location      SW11 4LB              SW11   \n",
       "2   In street outside gazetteer location        N9 9EL                N9   \n",
       "3       On land associated with building      UB10 0DG              UB10   \n",
       "4   In street outside gazetteer location        N7 8HG                N7   \n",
       "6              Correct incident location           NaN               NW5   \n",
       "\n",
       "              UPRN         USRN IncGeo_BoroughCode IncGeo_BoroughName  \\\n",
       "0              NaN          NaN          E09000032         WANDSWORTH   \n",
       "2              NaN          NaN          E09000010            ENFIELD   \n",
       "3 100021491527.000 21401491.000          E09000017         HILLINGDON   \n",
       "4              NaN          NaN          E09000019          ISLINGTON   \n",
       "6            0.000 20499122.000          E09000007             CAMDEN   \n",
       "\n",
       "   ProperCase IncGeo_WardCode     IncGeo_WardName  IncGeo_WardNameNew  \\\n",
       "0  Wandsworth       E05014010      Battersea Park      Battersea Park   \n",
       "2     Enfield       E05013682           Haselbury           Haselbury   \n",
       "3  Hillingdon       E05013571     Hillingdon East     Hillingdon East   \n",
       "4   Islington       E05013708             Laycock             Laycock   \n",
       "6      Camden       E05013663  Kentish Town North  Kentish Town North   \n",
       "\n",
       "   Easting_m  Northing_m  Easting_rounded  Northing_rounded  Latitude  \\\n",
       "0 528652.000  176830.000           528650            176850    51.476   \n",
       "2 533773.000  194492.000           533750            194450    51.633   \n",
       "3 507738.000  182805.000           507750            182850    51.534   \n",
       "4 531058.000  185307.000           531050            185350    51.551   \n",
       "6        NaN         NaN           529450            185250       NaN   \n",
       "\n",
       "   Longitude     FRS IncidentStationGround  FirstPumpArriving_AttendanceTime  \\\n",
       "0     -0.149  London             Battersea                           319.000   \n",
       "2     -0.068  London              Edmonton                           308.000   \n",
       "3     -0.448  London            Hillingdon                           210.000   \n",
       "4     -0.111  London              Holloway                           233.000   \n",
       "6        NaN  London          Kentish Town                           172.000   \n",
       "\n",
       "  FirstPumpArriving_DeployedFromStation  SecondPumpArriving_AttendanceTime  \\\n",
       "0                             Battersea                            342.000   \n",
       "2                              Edmonton                                NaN   \n",
       "3                            Hillingdon                                NaN   \n",
       "4                              Holloway                            250.000   \n",
       "6                          Kentish Town                            222.000   \n",
       "\n",
       "  SecondPumpArriving_DeployedFromStation  NumStationsWithPumpsAttending  \\\n",
       "0                                Clapham                          2.000   \n",
       "2                                    NaN                          1.000   \n",
       "3                                    NaN                          1.000   \n",
       "4                               Holloway                          1.000   \n",
       "6                           Kentish Town                          1.000   \n",
       "\n",
       "   NumPumpsAttending  PumpCount  PumpMinutesRounded  Notional Cost (£)  \\\n",
       "0              2.000          2                  60                255   \n",
       "2              1.000          1                  60                255   \n",
       "3              1.000          1                  60                255   \n",
       "4              2.000          2                  60                255   \n",
       "6              2.000          2                  60                255   \n",
       "\n",
       "   NumCalls  TotalResponseTime  \n",
       "0     1.000            319.000  \n",
       "2     2.000            308.000  \n",
       "3     2.000            210.000  \n",
       "4     1.000            233.000  \n",
       "6     1.000            172.000  "
      ]
     },
     "execution_count": 7,
     "metadata": {},
     "output_type": "execute_result"
    }
   ],
   "source": [
    "# Calculate Total Response Time\n",
    "df[\"TotalResponseTime\"] = df[\"DateAndTimeArrived\"] - df[\"DateTimeCall\"]\n",
    "df['TotalResponseTime'] = pd.to_timedelta(df['TotalResponseTime'])\n",
    "df['TotalResponseTime'] = df['TotalResponseTime'].dt.total_seconds()\n",
    "\n",
    "df.head()"
   ]
  },
  {
   "cell_type": "markdown",
   "id": "c69c28c8-423c-423e-915f-6301fd1f756c",
   "metadata": {},
   "source": [
    "#### Filter for Observations with Response Time >= 60 seconds (see UK definition)"
   ]
  },
  {
   "cell_type": "code",
   "execution_count": 8,
   "id": "fd4712f9-b141-4ec6-a7db-2670599857ef",
   "metadata": {},
   "outputs": [
    {
     "name": "stdout",
     "output_type": "stream",
     "text": [
      "Shapiro-Wilk Test Statistic: 0.9072632362881673\n",
      "p-value: 1.2796980128054626e-156\n",
      "Sample does not look Gaussian (reject H0)\n"
     ]
    },
    {
     "name": "stderr",
     "output_type": "stream",
     "text": [
      "/Users/bennyschellinger/miniforge3/envs/lfb_env/lib/python3.10/site-packages/scipy/stats/_axis_nan_policy.py:531: UserWarning: scipy.stats.shapiro: For N > 5000, computed p-value may not be accurate. Current N is 1555790.\n",
      "  res = hypotest_fun_out(*samples, **kwds)\n"
     ]
    }
   ],
   "source": [
    "from scipy.stats import shapiro\n",
    "import statsmodels.api as sm\n",
    "\n",
    "stat, p = shapiro(df[\"TotalResponseTime\"])\n",
    "print('Shapiro-Wilk Test Statistic:', stat)\n",
    "print('p-value:', p)\n",
    "\n",
    "# Interpretation\n",
    "alpha = 0.05\n",
    "if p > alpha:\n",
    "    print('Sample looks Gaussian (fail to reject H0)')\n",
    "else:\n",
    "    print('Sample does not look Gaussian (reject H0)')"
   ]
  },
  {
   "cell_type": "code",
   "execution_count": 10,
   "id": "20915f2d-50d5-4058-b19b-3b9b89965437",
   "metadata": {},
   "outputs": [
    {
     "data": {
      "image/png": "[encoded data removed]",
      "text/plain": [
       "<Figure size 1000x600 with 1 Axes>"
      ]
     },
     "metadata": {},
     "output_type": "display_data"
    }
   ],
   "source": [
    "plt.figure(figsize=(10, 6))\n",
    "sns.histplot(df[\"TotalResponseTime\"], bins=1200, kde=True)\n",
    "plt.title(f'Distribution of {\"TotalResponseTime\"}')\n",
    "plt.xlabel(\"Total Response Time (in seconds)\")\n",
    "plt.ylabel('Frequency')\n",
    "plt.show()"
   ]
  },
  {
   "cell_type": "code",
   "execution_count": 9,
   "id": "c4815596-1cb4-4508-8213-fcc27b7af73a",
   "metadata": {},
   "outputs": [
    {
     "data": {
      "image/png": "[encoded data removed]",
      "text/plain": [
       "<Figure size 640x480 with 1 Axes>"
      ]
     },
     "metadata": {},
     "output_type": "display_data"
    }
   ],
   "source": [
    "sm.qqplot(df[\"TotalResponseTime\"], line='45')\n",
    "plt.title('Q-Q Plot of Total Response Time')\n",
    "plt.show()"
   ]
  },
  {
   "cell_type": "code",
   "execution_count": 10,
   "id": "6e42a379-b500-401a-9ab2-b705746f4961",
   "metadata": {},
   "outputs": [
    {
     "data": {
      "text/plain": [
       "(1537704, 57)"
      ]
     },
     "execution_count": 10,
     "metadata": {},
     "output_type": "execute_result"
    }
   ],
   "source": [
    "df = df[df[\"TotalResponseTime\"] >= 60]\n",
    "df.shape"
   ]
  },
  {
   "cell_type": "code",
   "execution_count": 13,
   "id": "1cd8f3b8-75fe-4ab5-9b6d-203a5073b836",
   "metadata": {},
   "outputs": [
    {
     "name": "stderr",
     "output_type": "stream",
     "text": [
      "/Users/bennyschellinger/miniforge3/envs/lfb_env/lib/python3.10/site-packages/scipy/stats/_axis_nan_policy.py:531: UserWarning: scipy.stats.shapiro: For N > 5000, computed p-value may not be accurate. Current N is 1555790.\n",
      "  res = hypotest_fun_out(*samples, **kwds)\n"
     ]
    },
    {
     "name": "stdout",
     "output_type": "stream",
     "text": [
      "Shapiro-Wilk Test Statistic after log transformation: 0.9072632362881673\n",
      "p-value: 1.2796980128054626e-156\n",
      "Sample does not look Gaussian (reject H0)\n"
     ]
    },
    {
     "data": {
      "image/png": "[encoded data removed]",
      "text/plain": [
       "<Figure size 640x480 with 1 Axes>"
      ]
     },
     "metadata": {},
     "output_type": "display_data"
    }
   ],
   "source": [
    "mean = df[\"TotalResponseTime\"].mean()\n",
    "std_dev = df[\"TotalResponseTime\"].std()\n",
    "\n",
    "df[\"TotalResponseTime_std\"] = df[\"TotalResponseTime\"].apply(lambda x: ((x - mean) / std_dev))\n",
    "stat, p = shapiro(df[\"TotalResponseTime_std\"])\n",
    "print('Shapiro-Wilk Test Statistic after log transformation:', stat)\n",
    "print('p-value:', p)\n",
    "\n",
    "alpha = 0.05\n",
    "if p > alpha:\n",
    "    print('Sample looks Gaussian (fail to reject H0)')\n",
    "else:\n",
    "    print('Sample does not look Gaussian (reject H0)')\n",
    "\n",
    "sm.qqplot(df[\"TotalResponseTime_std\"], line='45')\n",
    "plt.title('Q-Q Plot of Log Transformed Total Response Time')\n",
    "plt.show()"
   ]
  },
  {
   "cell_type": "code",
   "execution_count": null,
   "id": "0c9816bf-5924-4eee-949e-f869079a054b",
   "metadata": {},
   "outputs": [],
   "source": []
  },
  {
   "cell_type": "code",
   "execution_count": null,
   "id": "eb460020-2f87-4088-a760-761d8cf3154e",
   "metadata": {},
   "outputs": [],
   "source": []
  },
  {
   "cell_type": "code",
   "execution_count": null,
   "id": "4aa6a899-1efa-496f-a656-bfafb8151894",
   "metadata": {},
   "outputs": [],
   "source": []
  },
  {
   "cell_type": "code",
   "execution_count": null,
   "id": "c0727b81-47fd-4f62-8153-c2e9d004ec3d",
   "metadata": {},
   "outputs": [],
   "source": []
  },
  {
   "cell_type": "markdown",
   "id": "c840ffc7-e340-40f4-9371-157048eb12d8",
   "metadata": {
    "jp-MarkdownHeadingCollapsed": true
   },
   "source": [
    "### 5.4 Drop non-relevant Columns"
   ]
  },
  {
   "cell_type": "markdown",
   "id": "c9631faa-6edd-42d3-ab0f-c0cc0f2cd2ca",
   "metadata": {},
   "source": [
    "#### Check & Clean WardNames & WardNamesNew"
   ]
  },
  {
   "cell_type": "code",
   "execution_count": 11,
   "id": "a5202602-6347-46f5-8435-f027b9cc1323",
   "metadata": {},
   "outputs": [
    {
     "data": {
      "text/plain": [
       "True     1537384\n",
       "False        320\n",
       "Name: count, dtype: int64"
      ]
     },
     "execution_count": 11,
     "metadata": {},
     "output_type": "execute_result"
    }
   ],
   "source": [
    "(df.IncGeo_WardName == df.IncGeo_WardNameNew).value_counts()"
   ]
  },
  {
   "cell_type": "code",
   "execution_count": 12,
   "id": "7427ce22-86ce-4e94-8d4d-4d35d4ba8758",
   "metadata": {},
   "outputs": [
    {
     "data": {
      "text/plain": [
       "IncGeo_WardName  IncGeo_WardNameNew\n",
       "St Mary's        St. Mary's            3\n",
       "St Mary's Park   St. Mary's Park       1\n",
       "St Michael's     St. Michael's         1\n",
       "St Peter's       St. Peter's           1\n",
       "Name: count, dtype: int64"
      ]
     },
     "execution_count": 12,
     "metadata": {},
     "output_type": "execute_result"
    }
   ],
   "source": [
    "ward_false = df.IncGeo_WardName != df.IncGeo_WardNameNew\n",
    "mismatch_values = df[ward_false][[\"IncGeo_WardName\", \"IncGeo_WardNameNew\"]] # show exact mismatched values in our dataframe\n",
    "mismatch_values.value_counts() # drop column \"IncGeo_WardName\""
   ]
  },
  {
   "cell_type": "markdown",
   "id": "e37cde3d-75d9-4d4c-b35d-ffafe4c520d9",
   "metadata": {},
   "source": [
    "#### Create Number of Calls Bins"
   ]
  },
  {
   "cell_type": "code",
   "execution_count": 19,
   "id": "4af3dc82-d209-439b-a49f-4d953561b781",
   "metadata": {},
   "outputs": [],
   "source": [
    "df['NumCalls'] = df['NumCalls'].fillna(1)\n",
    "\n",
    "def assign_bins(num_calls):\n",
    "    if num_calls == 1:\n",
    "        return '1'\n",
    "    elif num_calls == 2:\n",
    "        return '2'\n",
    "    elif 3 <= num_calls <= 5:\n",
    "        return '3-5'\n",
    "    elif 6 <= num_calls <= 10:\n",
    "        return '6-10'\n",
    "    else:\n",
    "        return '>10'\n",
    "\n",
    "df['NumCalls_bins'] = df['NumCalls'].apply(assign_bins)"
   ]
  },
  {
   "cell_type": "code",
   "execution_count": 21,
   "id": "02890ff7-8720-4636-a196-90e1e86aa050",
   "metadata": {},
   "outputs": [
    {
     "data": {
      "text/html": [
       "<div>\n",
       "<style scoped>\n",
       "    .dataframe tbody tr th:only-of-type {\n",
       "        vertical-align: middle;\n",
       "    }\n",
       "\n",
       "    .dataframe tbody tr th {\n",
       "        vertical-align: top;\n",
       "    }\n",
       "\n",
       "    .dataframe thead th {\n",
       "        text-align: right;\n",
       "    }\n",
       "</style>\n",
       "<table border=\"1\" class=\"dataframe\">\n",
       "  <thead>\n",
       "    <tr style=\"text-align: right;\">\n",
       "      <th></th>\n",
       "      <th>DateTimeCall</th>\n",
       "      <th>DeployedFromStation_Name</th>\n",
       "      <th>DeployedFromLocation</th>\n",
       "      <th>PlusCode_Description</th>\n",
       "      <th>IncidentGroup</th>\n",
       "      <th>StopCodeDescription</th>\n",
       "      <th>PropertyCategory</th>\n",
       "      <th>Postcode_district</th>\n",
       "      <th>IncGeo_BoroughName</th>\n",
       "      <th>IncGeo_WardNameNew</th>\n",
       "      <th>Easting_rounded</th>\n",
       "      <th>Northing_rounded</th>\n",
       "      <th>IncidentStationGround</th>\n",
       "      <th>FirstPumpArriving_DeployedFromStation</th>\n",
       "      <th>NumStationsWithPumpsAttending</th>\n",
       "      <th>NumPumpsAttending</th>\n",
       "      <th>TotalResponseTime</th>\n",
       "      <th>NumCalls_bins</th>\n",
       "      <th>NumCalls_bins_encoded</th>\n",
       "    </tr>\n",
       "    <tr>\n",
       "      <th>IncidentNumber</th>\n",
       "      <th></th>\n",
       "      <th></th>\n",
       "      <th></th>\n",
       "      <th></th>\n",
       "      <th></th>\n",
       "      <th></th>\n",
       "      <th></th>\n",
       "      <th></th>\n",
       "      <th></th>\n",
       "      <th></th>\n",
       "      <th></th>\n",
       "      <th></th>\n",
       "      <th></th>\n",
       "      <th></th>\n",
       "      <th></th>\n",
       "      <th></th>\n",
       "      <th></th>\n",
       "      <th></th>\n",
       "      <th></th>\n",
       "    </tr>\n",
       "  </thead>\n",
       "  <tbody>\n",
       "    <tr>\n",
       "      <th>235138081</th>\n",
       "      <td>2009-01-01 00:02:27</td>\n",
       "      <td>Battersea</td>\n",
       "      <td>Home Station</td>\n",
       "      <td>Initial Mobilisation</td>\n",
       "      <td>Special Service</td>\n",
       "      <td>Special Service</td>\n",
       "      <td>Road Vehicle</td>\n",
       "      <td>SW11</td>\n",
       "      <td>WANDSWORTH</td>\n",
       "      <td>Battersea Park</td>\n",
       "      <td>528650</td>\n",
       "      <td>176850</td>\n",
       "      <td>Battersea</td>\n",
       "      <td>Battersea</td>\n",
       "      <td>2.000</td>\n",
       "      <td>2.000</td>\n",
       "      <td>319.000</td>\n",
       "      <td>1</td>\n",
       "      <td>0</td>\n",
       "    </tr>\n",
       "    <tr>\n",
       "      <th>2091</th>\n",
       "      <td>2009-01-01 00:04:09</td>\n",
       "      <td>Edmonton</td>\n",
       "      <td>Home Station</td>\n",
       "      <td>Initial Mobilisation</td>\n",
       "      <td>Fire</td>\n",
       "      <td>Secondary Fire</td>\n",
       "      <td>Outdoor</td>\n",
       "      <td>N9</td>\n",
       "      <td>ENFIELD</td>\n",
       "      <td>Haselbury</td>\n",
       "      <td>533750</td>\n",
       "      <td>194450</td>\n",
       "      <td>Edmonton</td>\n",
       "      <td>Edmonton</td>\n",
       "      <td>1.000</td>\n",
       "      <td>1.000</td>\n",
       "      <td>308.000</td>\n",
       "      <td>2</td>\n",
       "      <td>1</td>\n",
       "    </tr>\n",
       "    <tr>\n",
       "      <th>3091</th>\n",
       "      <td>2009-01-01 00:04:57</td>\n",
       "      <td>Hillingdon</td>\n",
       "      <td>Home Station</td>\n",
       "      <td>Initial Mobilisation</td>\n",
       "      <td>Fire</td>\n",
       "      <td>Secondary Fire</td>\n",
       "      <td>Outdoor</td>\n",
       "      <td>UB10</td>\n",
       "      <td>HILLINGDON</td>\n",
       "      <td>Hillingdon East</td>\n",
       "      <td>507750</td>\n",
       "      <td>182850</td>\n",
       "      <td>Hillingdon</td>\n",
       "      <td>Hillingdon</td>\n",
       "      <td>1.000</td>\n",
       "      <td>1.000</td>\n",
       "      <td>210.000</td>\n",
       "      <td>2</td>\n",
       "      <td>1</td>\n",
       "    </tr>\n",
       "    <tr>\n",
       "      <th>5091</th>\n",
       "      <td>2009-01-01 00:06:04</td>\n",
       "      <td>Holloway</td>\n",
       "      <td>Home Station</td>\n",
       "      <td>Initial Mobilisation</td>\n",
       "      <td>Fire</td>\n",
       "      <td>Secondary Fire</td>\n",
       "      <td>Outdoor</td>\n",
       "      <td>N7</td>\n",
       "      <td>ISLINGTON</td>\n",
       "      <td>Laycock</td>\n",
       "      <td>531050</td>\n",
       "      <td>185350</td>\n",
       "      <td>Holloway</td>\n",
       "      <td>Holloway</td>\n",
       "      <td>1.000</td>\n",
       "      <td>2.000</td>\n",
       "      <td>233.000</td>\n",
       "      <td>1</td>\n",
       "      <td>0</td>\n",
       "    </tr>\n",
       "    <tr>\n",
       "      <th>6091</th>\n",
       "      <td>2009-01-01 00:06:30</td>\n",
       "      <td>Kentish Town</td>\n",
       "      <td>Home Station</td>\n",
       "      <td>Initial Mobilisation</td>\n",
       "      <td>False Alarm</td>\n",
       "      <td>AFA</td>\n",
       "      <td>Dwelling</td>\n",
       "      <td>NW5</td>\n",
       "      <td>CAMDEN</td>\n",
       "      <td>Kentish Town North</td>\n",
       "      <td>529450</td>\n",
       "      <td>185250</td>\n",
       "      <td>Kentish Town</td>\n",
       "      <td>Kentish Town</td>\n",
       "      <td>1.000</td>\n",
       "      <td>2.000</td>\n",
       "      <td>172.000</td>\n",
       "      <td>1</td>\n",
       "      <td>0</td>\n",
       "    </tr>\n",
       "  </tbody>\n",
       "</table>\n",
       "</div>"
      ],
      "text/plain": [
       "                      DateTimeCall DeployedFromStation_Name  \\\n",
       "IncidentNumber                                                \n",
       "235138081      2009-01-01 00:02:27                Battersea   \n",
       "2091           2009-01-01 00:04:09                 Edmonton   \n",
       "3091           2009-01-01 00:04:57               Hillingdon   \n",
       "5091           2009-01-01 00:06:04                 Holloway   \n",
       "6091           2009-01-01 00:06:30             Kentish Town   \n",
       "\n",
       "               DeployedFromLocation  PlusCode_Description    IncidentGroup  \\\n",
       "IncidentNumber                                                               \n",
       "235138081              Home Station  Initial Mobilisation  Special Service   \n",
       "2091                   Home Station  Initial Mobilisation             Fire   \n",
       "3091                   Home Station  Initial Mobilisation             Fire   \n",
       "5091                   Home Station  Initial Mobilisation             Fire   \n",
       "6091                   Home Station  Initial Mobilisation      False Alarm   \n",
       "\n",
       "               StopCodeDescription PropertyCategory Postcode_district  \\\n",
       "IncidentNumber                                                          \n",
       "235138081          Special Service     Road Vehicle              SW11   \n",
       "2091                Secondary Fire          Outdoor                N9   \n",
       "3091                Secondary Fire          Outdoor              UB10   \n",
       "5091                Secondary Fire          Outdoor                N7   \n",
       "6091                           AFA         Dwelling               NW5   \n",
       "\n",
       "               IncGeo_BoroughName  IncGeo_WardNameNew  Easting_rounded  \\\n",
       "IncidentNumber                                                           \n",
       "235138081              WANDSWORTH      Battersea Park           528650   \n",
       "2091                      ENFIELD           Haselbury           533750   \n",
       "3091                   HILLINGDON     Hillingdon East           507750   \n",
       "5091                    ISLINGTON             Laycock           531050   \n",
       "6091                       CAMDEN  Kentish Town North           529450   \n",
       "\n",
       "                Northing_rounded IncidentStationGround  \\\n",
       "IncidentNumber                                           \n",
       "235138081                 176850             Battersea   \n",
       "2091                      194450              Edmonton   \n",
       "3091                      182850            Hillingdon   \n",
       "5091                      185350              Holloway   \n",
       "6091                      185250          Kentish Town   \n",
       "\n",
       "               FirstPumpArriving_DeployedFromStation  \\\n",
       "IncidentNumber                                         \n",
       "235138081                                  Battersea   \n",
       "2091                                        Edmonton   \n",
       "3091                                      Hillingdon   \n",
       "5091                                        Holloway   \n",
       "6091                                    Kentish Town   \n",
       "\n",
       "                NumStationsWithPumpsAttending  NumPumpsAttending  \\\n",
       "IncidentNumber                                                     \n",
       "235138081                               2.000              2.000   \n",
       "2091                                    1.000              1.000   \n",
       "3091                                    1.000              1.000   \n",
       "5091                                    1.000              2.000   \n",
       "6091                                    1.000              2.000   \n",
       "\n",
       "                TotalResponseTime NumCalls_bins  NumCalls_bins_encoded  \n",
       "IncidentNumber                                                          \n",
       "235138081                 319.000             1                      0  \n",
       "2091                      308.000             2                      1  \n",
       "3091                      210.000             2                      1  \n",
       "5091                      233.000             1                      0  \n",
       "6091                      172.000             1                      0  "
      ]
     },
     "execution_count": 21,
     "metadata": {},
     "output_type": "execute_result"
    }
   ],
   "source": [
    "from sklearn.preprocessing import LabelEncoder\n",
    "le = LabelEncoder()\n",
    "df['NumCalls_bins_encoded'] = le.fit_transform(df['NumCalls_bins'])\n",
    "df = df.drop(columns='NumCalls')\n",
    "df.head()"
   ]
  },
  {
   "cell_type": "code",
   "execution_count": 13,
   "id": "98cccaf1-464b-4c77-8f0f-acbfcf53bdd2",
   "metadata": {
    "scrolled": true
   },
   "outputs": [
    {
     "name": "stdout",
     "output_type": "stream",
     "text": [
      "<class 'pandas.core.frame.DataFrame'>\n",
      "Index: 1537704 entries, 0 to 2346210\n",
      "Data columns (total 19 columns):\n",
      " #   Column                                 Non-Null Count    Dtype         \n",
      "---  ------                                 --------------    -----         \n",
      " 0   IncidentNumber                         1537704 non-null  object        \n",
      " 1   DateTimeCall                           1537704 non-null  datetime64[ns]\n",
      " 2   DeployedFromStation_Name               1537697 non-null  object        \n",
      " 3   DeployedFromLocation                   1537157 non-null  object        \n",
      " 4   PlusCode_Description                   1537704 non-null  object        \n",
      " 5   IncidentGroup                          1537704 non-null  object        \n",
      " 6   StopCodeDescription                    1537704 non-null  object        \n",
      " 7   PropertyCategory                       1537704 non-null  object        \n",
      " 8   Postcode_district                      1537704 non-null  object        \n",
      " 9   IncGeo_BoroughName                     1537704 non-null  object        \n",
      " 10  IncGeo_WardNameNew                     1537390 non-null  object        \n",
      " 11  Easting_rounded                        1537704 non-null  int64         \n",
      " 12  Northing_rounded                       1537704 non-null  int64         \n",
      " 13  IncidentStationGround                  1537703 non-null  object        \n",
      " 14  FirstPumpArriving_DeployedFromStation  1537697 non-null  object        \n",
      " 15  NumStationsWithPumpsAttending          1537704 non-null  float64       \n",
      " 16  NumPumpsAttending                      1537704 non-null  float64       \n",
      " 17  NumCalls                               1536781 non-null  float64       \n",
      " 18  TotalResponseTime                      1537704 non-null  float64       \n",
      "dtypes: datetime64[ns](1), float64(4), int64(2), object(12)\n",
      "memory usage: 234.6+ MB\n"
     ]
    }
   ],
   "source": [
    "columns = [\"DateAndTimeMobile\", \"DateAndTimeArrived\", \"TurnoutTimeSeconds\", \"TravelTimeSeconds\", \"PumpOrder\", \"SpecialServiceType\", \"IncGeo_WardName\", \"CalYear\", \"HourOfCall\", \"ResourceMobilisationId\",\"Resource_Code\",\"PerformanceReporting\", \"AttendanceTimeSeconds\", \"DateAndTimeLeft\",\"DateAndTimeReturned\",\"DeployedFromStation_Code\",\"PlusCode_Code\",\"DelayCodeId\",\"DelayCode_Description\",\"PropertyType\",\"AddressQualifier\",\"Postcode_full\",\"UPRN\",\"USRN\",\"IncGeo_BoroughCode\",\"ProperCase\",\"IncGeo_WardCode\",\"Easting_m\",\"Northing_m\", \"Latitude\", \"Longitude\", \"FRS\", \"FirstPumpArriving_AttendanceTime\",\"SecondPumpArriving_AttendanceTime\", \"SecondPumpArriving_DeployedFromStation\", \"PumpCount\", \"PumpMinutesRounded\", \"Notional Cost (£)\"]\n",
    "\n",
    "df = df.drop(columns = columns, axis = 1)\n",
    "df.info()"
   ]
  },
  {
   "cell_type": "code",
   "execution_count": 22,
   "id": "af99906f-dc9d-4f61-a4da-c1feb28f0ca4",
   "metadata": {},
   "outputs": [
    {
     "data": {
      "text/plain": [
       "NumCalls_bins_encoded\n",
       "0    1279610\n",
       "1     187694\n",
       "2      51058\n",
       "3      12801\n",
       "4       6541\n",
       "Name: count, dtype: int64"
      ]
     },
     "execution_count": 22,
     "metadata": {},
     "output_type": "execute_result"
    }
   ],
   "source": [
    "df.NumCalls_bins_encoded.value_counts()"
   ]
  },
  {
   "cell_type": "code",
   "execution_count": null,
   "id": "0030e41c-fc50-4064-9ef8-6af9490f2544",
   "metadata": {},
   "outputs": [],
   "source": []
  },
  {
   "cell_type": "code",
   "execution_count": null,
   "id": "5ec1bbbe-df6f-4485-96c8-206a689ac027",
   "metadata": {},
   "outputs": [],
   "source": []
  },
  {
   "cell_type": "markdown",
   "id": "d8c27634-73a8-42a6-a2ad-0bbd9d41b024",
   "metadata": {
    "jp-MarkdownHeadingCollapsed": true
   },
   "source": [
    "### 5.5 Set IncidentNumber as Index"
   ]
  },
  {
   "cell_type": "code",
   "execution_count": 23,
   "id": "ff6dc9ea-6991-4727-9220-6544a81545e5",
   "metadata": {
    "scrolled": true
   },
   "outputs": [
    {
     "ename": "KeyError",
     "evalue": "\"None of ['IncidentNumber'] are in the columns\"",
     "output_type": "error",
     "traceback": [
      "\u001b[0;31m---------------------------------------------------------------------------\u001b[0m",
      "\u001b[0;31mKeyError\u001b[0m                                  Traceback (most recent call last)",
      "\u001b[0;32m/var/folders/mf/b1lhfbsd0_v8415y834bgj_c0000gn/T/ipykernel_65735/1034942191.py\u001b[0m in \u001b[0;36m?\u001b[0;34m()\u001b[0m\n\u001b[0;32m----> 1\u001b[0;31m \u001b[0mdf\u001b[0m \u001b[0;34m=\u001b[0m \u001b[0mdf\u001b[0m\u001b[0;34m.\u001b[0m\u001b[0mset_index\u001b[0m\u001b[0;34m(\u001b[0m\u001b[0;34m\"IncidentNumber\"\u001b[0m\u001b[0;34m)\u001b[0m\u001b[0;34m\u001b[0m\u001b[0;34m\u001b[0m\u001b[0m\n\u001b[0m\u001b[1;32m      2\u001b[0m \u001b[0mdf\u001b[0m\u001b[0;34m.\u001b[0m\u001b[0minfo\u001b[0m\u001b[0;34m(\u001b[0m\u001b[0;34m)\u001b[0m\u001b[0;34m\u001b[0m\u001b[0;34m\u001b[0m\u001b[0m\n",
      "\u001b[0;32m~/miniforge3/envs/lfb_env/lib/python3.10/site-packages/pandas/core/frame.py\u001b[0m in \u001b[0;36m?\u001b[0;34m(self, keys, drop, append, inplace, verify_integrity)\u001b[0m\n\u001b[1;32m   6118\u001b[0m                     \u001b[0;32mif\u001b[0m \u001b[0;32mnot\u001b[0m \u001b[0mfound\u001b[0m\u001b[0;34m:\u001b[0m\u001b[0;34m\u001b[0m\u001b[0;34m\u001b[0m\u001b[0m\n\u001b[1;32m   6119\u001b[0m                         \u001b[0mmissing\u001b[0m\u001b[0;34m.\u001b[0m\u001b[0mappend\u001b[0m\u001b[0;34m(\u001b[0m\u001b[0mcol\u001b[0m\u001b[0;34m)\u001b[0m\u001b[0;34m\u001b[0m\u001b[0;34m\u001b[0m\u001b[0m\n\u001b[1;32m   6120\u001b[0m \u001b[0;34m\u001b[0m\u001b[0m\n\u001b[1;32m   6121\u001b[0m         \u001b[0;32mif\u001b[0m \u001b[0mmissing\u001b[0m\u001b[0;34m:\u001b[0m\u001b[0;34m\u001b[0m\u001b[0;34m\u001b[0m\u001b[0m\n\u001b[0;32m-> 6122\u001b[0;31m             \u001b[0;32mraise\u001b[0m \u001b[0mKeyError\u001b[0m\u001b[0;34m(\u001b[0m\u001b[0;34mf\"None of {missing} are in the columns\"\u001b[0m\u001b[0;34m)\u001b[0m\u001b[0;34m\u001b[0m\u001b[0;34m\u001b[0m\u001b[0m\n\u001b[0m\u001b[1;32m   6123\u001b[0m \u001b[0;34m\u001b[0m\u001b[0m\n\u001b[1;32m   6124\u001b[0m         \u001b[0;32mif\u001b[0m \u001b[0minplace\u001b[0m\u001b[0;34m:\u001b[0m\u001b[0;34m\u001b[0m\u001b[0;34m\u001b[0m\u001b[0m\n\u001b[1;32m   6125\u001b[0m             \u001b[0mframe\u001b[0m \u001b[0;34m=\u001b[0m \u001b[0mself\u001b[0m\u001b[0;34m\u001b[0m\u001b[0;34m\u001b[0m\u001b[0m\n",
      "\u001b[0;31mKeyError\u001b[0m: \"None of ['IncidentNumber'] are in the columns\""
     ]
    }
   ],
   "source": [
    "df = df.set_index(\"IncidentNumber\")\n",
    "df.info()"
   ]
  },
  {
   "cell_type": "markdown",
   "id": "98767982-d0b8-43ea-acc9-cc9a0f7c80d0",
   "metadata": {
    "jp-MarkdownHeadingCollapsed": true
   },
   "source": [
    "### 5.6 Remove Duplicates"
   ]
  },
  {
   "cell_type": "code",
   "execution_count": 74,
   "id": "f2722128-b6f8-4aa4-8de3-11a63dfa9ad2",
   "metadata": {},
   "outputs": [
    {
     "data": {
      "text/plain": [
       "0"
      ]
     },
     "execution_count": 74,
     "metadata": {},
     "output_type": "execute_result"
    }
   ],
   "source": [
    "df.duplicated().sum() # Zero duplicates"
   ]
  },
  {
   "cell_type": "markdown",
   "id": "27361915-17da-429d-a9e3-dcbf4753888d",
   "metadata": {
    "jp-MarkdownHeadingCollapsed": true
   },
   "source": [
    "### 5.7 Store cleansed DataFrame"
   ]
  },
  {
   "cell_type": "code",
   "execution_count": 25,
   "id": "a11d91f4-6fcd-4d4e-9cad-e8e9fe25c33c",
   "metadata": {},
   "outputs": [],
   "source": [
    "df.to_csv(path_df+'df_clean_before_NaNs.csv', index=True)"
   ]
  },
  {
   "cell_type": "code",
   "execution_count": 24,
   "id": "42726b52-3c30-434d-9fcc-eb5917f13261",
   "metadata": {},
   "outputs": [
    {
     "data": {
      "text/html": [
       "<div>\n",
       "<style scoped>\n",
       "    .dataframe tbody tr th:only-of-type {\n",
       "        vertical-align: middle;\n",
       "    }\n",
       "\n",
       "    .dataframe tbody tr th {\n",
       "        vertical-align: top;\n",
       "    }\n",
       "\n",
       "    .dataframe thead th {\n",
       "        text-align: right;\n",
       "    }\n",
       "</style>\n",
       "<table border=\"1\" class=\"dataframe\">\n",
       "  <thead>\n",
       "    <tr style=\"text-align: right;\">\n",
       "      <th></th>\n",
       "      <th>DateTimeCall</th>\n",
       "      <th>DeployedFromStation_Name</th>\n",
       "      <th>DeployedFromLocation</th>\n",
       "      <th>PlusCode_Description</th>\n",
       "      <th>IncidentGroup</th>\n",
       "      <th>StopCodeDescription</th>\n",
       "      <th>PropertyCategory</th>\n",
       "      <th>Postcode_district</th>\n",
       "      <th>IncGeo_BoroughName</th>\n",
       "      <th>IncGeo_WardNameNew</th>\n",
       "      <th>Easting_rounded</th>\n",
       "      <th>Northing_rounded</th>\n",
       "      <th>IncidentStationGround</th>\n",
       "      <th>FirstPumpArriving_DeployedFromStation</th>\n",
       "      <th>NumStationsWithPumpsAttending</th>\n",
       "      <th>NumPumpsAttending</th>\n",
       "      <th>TotalResponseTime</th>\n",
       "      <th>NumCalls_bins</th>\n",
       "      <th>NumCalls_bins_encoded</th>\n",
       "    </tr>\n",
       "    <tr>\n",
       "      <th>IncidentNumber</th>\n",
       "      <th></th>\n",
       "      <th></th>\n",
       "      <th></th>\n",
       "      <th></th>\n",
       "      <th></th>\n",
       "      <th></th>\n",
       "      <th></th>\n",
       "      <th></th>\n",
       "      <th></th>\n",
       "      <th></th>\n",
       "      <th></th>\n",
       "      <th></th>\n",
       "      <th></th>\n",
       "      <th></th>\n",
       "      <th></th>\n",
       "      <th></th>\n",
       "      <th></th>\n",
       "      <th></th>\n",
       "      <th></th>\n",
       "    </tr>\n",
       "  </thead>\n",
       "  <tbody>\n",
       "    <tr>\n",
       "      <th>235138081</th>\n",
       "      <td>2009-01-01 00:02:27</td>\n",
       "      <td>Battersea</td>\n",
       "      <td>Home Station</td>\n",
       "      <td>Initial Mobilisation</td>\n",
       "      <td>Special Service</td>\n",
       "      <td>Special Service</td>\n",
       "      <td>Road Vehicle</td>\n",
       "      <td>SW11</td>\n",
       "      <td>WANDSWORTH</td>\n",
       "      <td>Battersea Park</td>\n",
       "      <td>528650</td>\n",
       "      <td>176850</td>\n",
       "      <td>Battersea</td>\n",
       "      <td>Battersea</td>\n",
       "      <td>2.000</td>\n",
       "      <td>2.000</td>\n",
       "      <td>319.000</td>\n",
       "      <td>1</td>\n",
       "      <td>0</td>\n",
       "    </tr>\n",
       "    <tr>\n",
       "      <th>2091</th>\n",
       "      <td>2009-01-01 00:04:09</td>\n",
       "      <td>Edmonton</td>\n",
       "      <td>Home Station</td>\n",
       "      <td>Initial Mobilisation</td>\n",
       "      <td>Fire</td>\n",
       "      <td>Secondary Fire</td>\n",
       "      <td>Outdoor</td>\n",
       "      <td>N9</td>\n",
       "      <td>ENFIELD</td>\n",
       "      <td>Haselbury</td>\n",
       "      <td>533750</td>\n",
       "      <td>194450</td>\n",
       "      <td>Edmonton</td>\n",
       "      <td>Edmonton</td>\n",
       "      <td>1.000</td>\n",
       "      <td>1.000</td>\n",
       "      <td>308.000</td>\n",
       "      <td>2</td>\n",
       "      <td>1</td>\n",
       "    </tr>\n",
       "    <tr>\n",
       "      <th>3091</th>\n",
       "      <td>2009-01-01 00:04:57</td>\n",
       "      <td>Hillingdon</td>\n",
       "      <td>Home Station</td>\n",
       "      <td>Initial Mobilisation</td>\n",
       "      <td>Fire</td>\n",
       "      <td>Secondary Fire</td>\n",
       "      <td>Outdoor</td>\n",
       "      <td>UB10</td>\n",
       "      <td>HILLINGDON</td>\n",
       "      <td>Hillingdon East</td>\n",
       "      <td>507750</td>\n",
       "      <td>182850</td>\n",
       "      <td>Hillingdon</td>\n",
       "      <td>Hillingdon</td>\n",
       "      <td>1.000</td>\n",
       "      <td>1.000</td>\n",
       "      <td>210.000</td>\n",
       "      <td>2</td>\n",
       "      <td>1</td>\n",
       "    </tr>\n",
       "    <tr>\n",
       "      <th>5091</th>\n",
       "      <td>2009-01-01 00:06:04</td>\n",
       "      <td>Holloway</td>\n",
       "      <td>Home Station</td>\n",
       "      <td>Initial Mobilisation</td>\n",
       "      <td>Fire</td>\n",
       "      <td>Secondary Fire</td>\n",
       "      <td>Outdoor</td>\n",
       "      <td>N7</td>\n",
       "      <td>ISLINGTON</td>\n",
       "      <td>Laycock</td>\n",
       "      <td>531050</td>\n",
       "      <td>185350</td>\n",
       "      <td>Holloway</td>\n",
       "      <td>Holloway</td>\n",
       "      <td>1.000</td>\n",
       "      <td>2.000</td>\n",
       "      <td>233.000</td>\n",
       "      <td>1</td>\n",
       "      <td>0</td>\n",
       "    </tr>\n",
       "    <tr>\n",
       "      <th>6091</th>\n",
       "      <td>2009-01-01 00:06:30</td>\n",
       "      <td>Kentish Town</td>\n",
       "      <td>Home Station</td>\n",
       "      <td>Initial Mobilisation</td>\n",
       "      <td>False Alarm</td>\n",
       "      <td>AFA</td>\n",
       "      <td>Dwelling</td>\n",
       "      <td>NW5</td>\n",
       "      <td>CAMDEN</td>\n",
       "      <td>Kentish Town North</td>\n",
       "      <td>529450</td>\n",
       "      <td>185250</td>\n",
       "      <td>Kentish Town</td>\n",
       "      <td>Kentish Town</td>\n",
       "      <td>1.000</td>\n",
       "      <td>2.000</td>\n",
       "      <td>172.000</td>\n",
       "      <td>1</td>\n",
       "      <td>0</td>\n",
       "    </tr>\n",
       "  </tbody>\n",
       "</table>\n",
       "</div>"
      ],
      "text/plain": [
       "                      DateTimeCall DeployedFromStation_Name  \\\n",
       "IncidentNumber                                                \n",
       "235138081      2009-01-01 00:02:27                Battersea   \n",
       "2091           2009-01-01 00:04:09                 Edmonton   \n",
       "3091           2009-01-01 00:04:57               Hillingdon   \n",
       "5091           2009-01-01 00:06:04                 Holloway   \n",
       "6091           2009-01-01 00:06:30             Kentish Town   \n",
       "\n",
       "               DeployedFromLocation  PlusCode_Description    IncidentGroup  \\\n",
       "IncidentNumber                                                               \n",
       "235138081              Home Station  Initial Mobilisation  Special Service   \n",
       "2091                   Home Station  Initial Mobilisation             Fire   \n",
       "3091                   Home Station  Initial Mobilisation             Fire   \n",
       "5091                   Home Station  Initial Mobilisation             Fire   \n",
       "6091                   Home Station  Initial Mobilisation      False Alarm   \n",
       "\n",
       "               StopCodeDescription PropertyCategory Postcode_district  \\\n",
       "IncidentNumber                                                          \n",
       "235138081          Special Service     Road Vehicle              SW11   \n",
       "2091                Secondary Fire          Outdoor                N9   \n",
       "3091                Secondary Fire          Outdoor              UB10   \n",
       "5091                Secondary Fire          Outdoor                N7   \n",
       "6091                           AFA         Dwelling               NW5   \n",
       "\n",
       "               IncGeo_BoroughName  IncGeo_WardNameNew  Easting_rounded  \\\n",
       "IncidentNumber                                                           \n",
       "235138081              WANDSWORTH      Battersea Park           528650   \n",
       "2091                      ENFIELD           Haselbury           533750   \n",
       "3091                   HILLINGDON     Hillingdon East           507750   \n",
       "5091                    ISLINGTON             Laycock           531050   \n",
       "6091                       CAMDEN  Kentish Town North           529450   \n",
       "\n",
       "                Northing_rounded IncidentStationGround  \\\n",
       "IncidentNumber                                           \n",
       "235138081                 176850             Battersea   \n",
       "2091                      194450              Edmonton   \n",
       "3091                      182850            Hillingdon   \n",
       "5091                      185350              Holloway   \n",
       "6091                      185250          Kentish Town   \n",
       "\n",
       "               FirstPumpArriving_DeployedFromStation  \\\n",
       "IncidentNumber                                         \n",
       "235138081                                  Battersea   \n",
       "2091                                        Edmonton   \n",
       "3091                                      Hillingdon   \n",
       "5091                                        Holloway   \n",
       "6091                                    Kentish Town   \n",
       "\n",
       "                NumStationsWithPumpsAttending  NumPumpsAttending  \\\n",
       "IncidentNumber                                                     \n",
       "235138081                               2.000              2.000   \n",
       "2091                                    1.000              1.000   \n",
       "3091                                    1.000              1.000   \n",
       "5091                                    1.000              2.000   \n",
       "6091                                    1.000              2.000   \n",
       "\n",
       "                TotalResponseTime NumCalls_bins  NumCalls_bins_encoded  \n",
       "IncidentNumber                                                          \n",
       "235138081                 319.000             1                      0  \n",
       "2091                      308.000             2                      1  \n",
       "3091                      210.000             2                      1  \n",
       "5091                      233.000             1                      0  \n",
       "6091                      172.000             1                      0  "
      ]
     },
     "execution_count": 24,
     "metadata": {},
     "output_type": "execute_result"
    }
   ],
   "source": [
    "df.head()"
   ]
  },
  {
   "cell_type": "code",
   "execution_count": null,
   "id": "ab72402f-6ef6-4391-8d9c-1a4765311fcf",
   "metadata": {},
   "outputs": [],
   "source": []
  },
  {
   "cell_type": "markdown",
   "id": "8c8fc0a4-56e6-4c8e-bf14-fbe0eaa24f92",
   "metadata": {
    "jp-MarkdownHeadingCollapsed": true
   },
   "source": [
    "# --------------------------"
   ]
  },
  {
   "cell_type": "markdown",
   "id": "14e81071-6342-4e7a-bcfa-c027c84d8be5",
   "metadata": {
    "jp-MarkdownHeadingCollapsed": true
   },
   "source": [
    "# 6. Load cleansed Data Frame"
   ]
  },
  {
   "cell_type": "code",
   "execution_count": 100,
   "id": "bbe7076f-8bb5-44ef-b94b-50aee67fdd9b",
   "metadata": {},
   "outputs": [
    {
     "name": "stdout",
     "output_type": "stream",
     "text": [
      "<class 'pandas.core.frame.DataFrame'>\n",
      "Index: 1537704 entries, 235138081 to 067903-30042024\n",
      "Data columns (total 17 columns):\n",
      " #   Column                                 Non-Null Count    Dtype         \n",
      "---  ------                                 --------------    -----         \n",
      " 0   DateTimeCall                           1537704 non-null  datetime64[ns]\n",
      " 1   DeployedFromStation_Name               1537697 non-null  object        \n",
      " 2   DeployedFromLocation                   1537157 non-null  object        \n",
      " 3   PlusCode_Description                   1537704 non-null  object        \n",
      " 4   IncidentGroup                          1537704 non-null  object        \n",
      " 5   PropertyCategory                       1537704 non-null  object        \n",
      " 6   Postcode_district                      1537704 non-null  object        \n",
      " 7   IncGeo_BoroughName                     1537704 non-null  object        \n",
      " 8   IncGeo_WardNameNew                     1537390 non-null  object        \n",
      " 9   Easting_rounded                        1537704 non-null  int64         \n",
      " 10  Northing_rounded                       1537704 non-null  int64         \n",
      " 11  IncidentStationGround                  1537703 non-null  object        \n",
      " 12  FirstPumpArriving_DeployedFromStation  1537697 non-null  object        \n",
      " 13  NumStationsWithPumpsAttending          1537704 non-null  float64       \n",
      " 14  NumPumpsAttending                      1537704 non-null  float64       \n",
      " 15  NumCalls                               1536781 non-null  float64       \n",
      " 16  TotalResponseTime                      1537704 non-null  float64       \n",
      "dtypes: datetime64[ns](1), float64(4), int64(2), object(10)\n",
      "memory usage: 243.4+ MB\n"
     ]
    }
   ],
   "source": [
    "df = pd.read_csv(path_df+'df_clean_before_NaNs.csv', index_col = \"IncidentNumber\", dtype={\"IncidentNumber\": \"str\"}, parse_dates=['DateTimeCall'])\n",
    "df.info()"
   ]
  },
  {
   "cell_type": "markdown",
   "id": "2b1f90cf-098d-451a-bb83-d655bbd7e311",
   "metadata": {
    "jp-MarkdownHeadingCollapsed": true
   },
   "source": [
    "# --------------------------"
   ]
  },
  {
   "cell_type": "markdown",
   "id": "af600806-6522-479c-9560-2b850e0e3b20",
   "metadata": {},
   "source": [
    "# 7. Detecting & Handling Missing Values"
   ]
  },
  {
   "cell_type": "markdown",
   "id": "a76cf772-1974-40b3-a915-9faa471bfe5a",
   "metadata": {
    "jp-MarkdownHeadingCollapsed": true
   },
   "source": [
    "### 7.1 Detect Missing Values"
   ]
  },
  {
   "cell_type": "code",
   "execution_count": 101,
   "id": "2b8f7391-983b-49a1-b523-e12c7a56754e",
   "metadata": {
    "scrolled": true
   },
   "outputs": [
    {
     "data": {
      "text/html": [
       "<div>\n",
       "<style scoped>\n",
       "    .dataframe tbody tr th:only-of-type {\n",
       "        vertical-align: middle;\n",
       "    }\n",
       "\n",
       "    .dataframe tbody tr th {\n",
       "        vertical-align: top;\n",
       "    }\n",
       "\n",
       "    .dataframe thead th {\n",
       "        text-align: right;\n",
       "    }\n",
       "</style>\n",
       "<table border=\"1\" class=\"dataframe\">\n",
       "  <thead>\n",
       "    <tr style=\"text-align: right;\">\n",
       "      <th></th>\n",
       "      <th>Missing Values Count</th>\n",
       "      <th>Missing Values Percentage (%)</th>\n",
       "    </tr>\n",
       "  </thead>\n",
       "  <tbody>\n",
       "    <tr>\n",
       "      <th>DateTimeCall</th>\n",
       "      <td>0</td>\n",
       "      <td>0.000</td>\n",
       "    </tr>\n",
       "    <tr>\n",
       "      <th>DeployedFromStation_Name</th>\n",
       "      <td>7</td>\n",
       "      <td>0.000</td>\n",
       "    </tr>\n",
       "    <tr>\n",
       "      <th>DeployedFromLocation</th>\n",
       "      <td>547</td>\n",
       "      <td>0.036</td>\n",
       "    </tr>\n",
       "    <tr>\n",
       "      <th>PlusCode_Description</th>\n",
       "      <td>0</td>\n",
       "      <td>0.000</td>\n",
       "    </tr>\n",
       "    <tr>\n",
       "      <th>IncidentGroup</th>\n",
       "      <td>0</td>\n",
       "      <td>0.000</td>\n",
       "    </tr>\n",
       "    <tr>\n",
       "      <th>PropertyCategory</th>\n",
       "      <td>0</td>\n",
       "      <td>0.000</td>\n",
       "    </tr>\n",
       "    <tr>\n",
       "      <th>Postcode_district</th>\n",
       "      <td>0</td>\n",
       "      <td>0.000</td>\n",
       "    </tr>\n",
       "    <tr>\n",
       "      <th>IncGeo_BoroughName</th>\n",
       "      <td>0</td>\n",
       "      <td>0.000</td>\n",
       "    </tr>\n",
       "    <tr>\n",
       "      <th>IncGeo_WardNameNew</th>\n",
       "      <td>314</td>\n",
       "      <td>0.020</td>\n",
       "    </tr>\n",
       "    <tr>\n",
       "      <th>Easting_rounded</th>\n",
       "      <td>0</td>\n",
       "      <td>0.000</td>\n",
       "    </tr>\n",
       "    <tr>\n",
       "      <th>Northing_rounded</th>\n",
       "      <td>0</td>\n",
       "      <td>0.000</td>\n",
       "    </tr>\n",
       "    <tr>\n",
       "      <th>IncidentStationGround</th>\n",
       "      <td>1</td>\n",
       "      <td>0.000</td>\n",
       "    </tr>\n",
       "    <tr>\n",
       "      <th>FirstPumpArriving_DeployedFromStation</th>\n",
       "      <td>7</td>\n",
       "      <td>0.000</td>\n",
       "    </tr>\n",
       "    <tr>\n",
       "      <th>NumStationsWithPumpsAttending</th>\n",
       "      <td>0</td>\n",
       "      <td>0.000</td>\n",
       "    </tr>\n",
       "    <tr>\n",
       "      <th>NumPumpsAttending</th>\n",
       "      <td>0</td>\n",
       "      <td>0.000</td>\n",
       "    </tr>\n",
       "    <tr>\n",
       "      <th>NumCalls</th>\n",
       "      <td>923</td>\n",
       "      <td>0.060</td>\n",
       "    </tr>\n",
       "    <tr>\n",
       "      <th>TotalResponseTime</th>\n",
       "      <td>0</td>\n",
       "      <td>0.000</td>\n",
       "    </tr>\n",
       "  </tbody>\n",
       "</table>\n",
       "</div>"
      ],
      "text/plain": [
       "                                       Missing Values Count  \\\n",
       "DateTimeCall                                              0   \n",
       "DeployedFromStation_Name                                  7   \n",
       "DeployedFromLocation                                    547   \n",
       "PlusCode_Description                                      0   \n",
       "IncidentGroup                                             0   \n",
       "PropertyCategory                                          0   \n",
       "Postcode_district                                         0   \n",
       "IncGeo_BoroughName                                        0   \n",
       "IncGeo_WardNameNew                                      314   \n",
       "Easting_rounded                                           0   \n",
       "Northing_rounded                                          0   \n",
       "IncidentStationGround                                     1   \n",
       "FirstPumpArriving_DeployedFromStation                     7   \n",
       "NumStationsWithPumpsAttending                             0   \n",
       "NumPumpsAttending                                         0   \n",
       "NumCalls                                                923   \n",
       "TotalResponseTime                                         0   \n",
       "\n",
       "                                       Missing Values Percentage (%)  \n",
       "DateTimeCall                                                   0.000  \n",
       "DeployedFromStation_Name                                       0.000  \n",
       "DeployedFromLocation                                           0.036  \n",
       "PlusCode_Description                                           0.000  \n",
       "IncidentGroup                                                  0.000  \n",
       "PropertyCategory                                               0.000  \n",
       "Postcode_district                                              0.000  \n",
       "IncGeo_BoroughName                                             0.000  \n",
       "IncGeo_WardNameNew                                             0.020  \n",
       "Easting_rounded                                                0.000  \n",
       "Northing_rounded                                               0.000  \n",
       "IncidentStationGround                                          0.000  \n",
       "FirstPumpArriving_DeployedFromStation                          0.000  \n",
       "NumStationsWithPumpsAttending                                  0.000  \n",
       "NumPumpsAttending                                              0.000  \n",
       "NumCalls                                                       0.060  \n",
       "TotalResponseTime                                              0.000  "
      ]
     },
     "execution_count": 101,
     "metadata": {},
     "output_type": "execute_result"
    }
   ],
   "source": [
    "missing_values_count_df = df.isna().sum()\n",
    "\n",
    "missing_values_percentage_df = {}\n",
    "\n",
    "for col in df.columns:\n",
    "    missing_values_percentage_df[col] = np.round((df[col].isna().sum() / df.shape[0] * 100), 3)\n",
    "\n",
    "missing_values_percentage_series = pd.Series(missing_values_percentage_df)\n",
    "\n",
    "missing_values_summary_df = pd.DataFrame({\n",
    "    'Missing Values Count': missing_values_count_df,\n",
    "    'Missing Values Percentage (%)': missing_values_percentage_series\n",
    "})\n",
    "\n",
    "missing_values_summary_df\n"
   ]
  },
  {
   "cell_type": "markdown",
   "id": "8f41eb39-a8d2-4d9b-be99-311edc200b3d",
   "metadata": {},
   "source": [
    "### 7.2 Handling Missing Values"
   ]
  },
  {
   "cell_type": "code",
   "execution_count": 90,
   "id": "ad90c8d7-b079-43f3-b115-0cc402b623c3",
   "metadata": {},
   "outputs": [],
   "source": [
    "### tbd"
   ]
  },
  {
   "cell_type": "code",
   "execution_count": null,
   "id": "27ad4019-04ef-4f05-b9e7-92495d9120be",
   "metadata": {},
   "outputs": [],
   "source": []
  },
  {
   "cell_type": "code",
   "execution_count": null,
   "id": "6f5712f4-808d-4428-8a0e-4913db83519b",
   "metadata": {},
   "outputs": [],
   "source": []
  },
  {
   "cell_type": "markdown",
   "id": "e6243c5a-ea52-4785-9e0d-cafa07de2b3a",
   "metadata": {},
   "source": [
    "**To Do's**\n",
    "- Check Outlier in all numerical Features\n",
    "- Discuss Handling of Missing Values\n",
    "- Make adjustments according to the decision above\n",
    "- Add Date & Time Features (e.g., year/month/etc.. of Incident)\n",
    "- Add Coordinate / Cells Features"
   ]
  }
 ],
 "metadata": {
  "kernelspec": {
   "display_name": "Python 3 (ipykernel)",
   "language": "python",
   "name": "python3"
  },
  "language_info": {
   "codemirror_mode": {
    "name": "ipython",
    "version": 3
   },
   "file_extension": ".py",
   "mimetype": "text/x-python",
   "name": "python",
   "nbconvert_exporter": "python",
   "pygments_lexer": "ipython3",
   "version": "3.10.13"
  }
 },
 "nbformat": 4,
 "nbformat_minor": 5
}
